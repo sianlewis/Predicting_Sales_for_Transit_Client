{
 "cells": [
  {
   "cell_type": "code",
   "execution_count": null,
   "metadata": {
    "collapsed": true
   },
   "outputs": [],
   "source": [
    "import keys\n",
    "import pandas as pd\n",
    "import requests\n",
    "from pprint import pprint\n",
    "import json\n",
    "import numpy as np"
   ]
  },
  {
   "cell_type": "code",
   "execution_count": null,
   "metadata": {
    "collapsed": true
   },
   "outputs": [],
   "source": [
    "df = pd.read_csv('merged.csv')"
   ]
  },
  {
   "cell_type": "code",
   "execution_count": null,
   "metadata": {},
   "outputs": [],
   "source": [
    "df.head(5)"
   ]
  },
  {
   "cell_type": "code",
   "execution_count": null,
   "metadata": {
    "collapsed": true
   },
   "outputs": [],
   "source": [
    "#df2 = df[(df['lat'].isnull()==True) & (df['address'].isnull()==False)]"
   ]
  },
  {
   "cell_type": "code",
   "execution_count": null,
   "metadata": {},
   "outputs": [],
   "source": [
    "#(df['lat'].isnull()==True) &\n",
    "#key = 'xxx'\n",
    "key = keys.google\n",
    "counter = 0\n",
    "# loop through all records with an address, but no lat/long\n",
    "for i, row in df[(df['lat'].isnull() == True) &\n",
    "                 (df['address'].isnull() == False)\n",
    "                 #& (df['id']=='0061a00000GcQdL') #for test\n",
    "                 ].iterrows():\n",
    "    # get the lat and long from google maps api\n",
    "    address = row.address.replace(' ', '+')\n",
    "    url = 'https://maps.googleapis.com/maps/api/geocode/json?address='+address+'=&key='+key\n",
    "    response = requests.get(url)\n",
    "    try:\n",
    "        data = json.loads(response.text)\n",
    "        # print(data)\n",
    "        lat = data['results'][0]['geometry']['location']['lat']\n",
    "        lng = data['results'][0]['geometry']['location']['lng']\n",
    "        # add it to the dataframe\n",
    "        df.loc[df['id'] == row.id, 'lat'] = lat\n",
    "        df.loc[df['id'] == row.id, 'lng'] = lng\n",
    "        # print(address,lat,lng)\n",
    "    except:\n",
    "        print('request failure for row', i, data)\n",
    "    counter += 1\n",
    "    if counter % 10 == 0:\n",
    "        print(counter, address, lat, lng)\n",
    "        # break"
   ]
  },
  {
   "cell_type": "code",
   "execution_count": null,
   "metadata": {
    "collapsed": true
   },
   "outputs": [],
   "source": [
    "# df.head(3000)"
   ]
  },
  {
   "cell_type": "code",
   "execution_count": null,
   "metadata": {},
   "outputs": [],
   "source": [
    "# number of uncompleted records\n",
    "df[(df['lat'].isnull() == True) & (df['address'].isnull() == False)].shape"
   ]
  },
  {
   "cell_type": "code",
   "execution_count": null,
   "metadata": {
    "collapsed": true
   },
   "outputs": [],
   "source": [
    "# export to csv\n",
    "df.to_csv('merged.csv', index_label=False)"
   ]
  },
  {
   "cell_type": "code",
   "execution_count": null,
   "metadata": {
    "collapsed": true
   },
   "outputs": [],
   "source": []
  }
 ],
 "metadata": {
  "kernelspec": {
   "display_name": "Python 3",
   "language": "python",
   "name": "python3"
  },
  "language_info": {
   "codemirror_mode": {
    "name": "ipython",
    "version": 3
   },
   "file_extension": ".py",
   "mimetype": "text/x-python",
   "name": "python",
   "nbconvert_exporter": "python",
   "pygments_lexer": "ipython3",
   "version": "3.6.4"
  },
  "toc": {
   "nav_menu": {},
   "number_sections": true,
   "sideBar": true,
   "skip_h1_title": false,
   "title_cell": "Table of Contents",
   "title_sidebar": "Contents",
   "toc_cell": false,
   "toc_position": {},
   "toc_section_display": true,
   "toc_window_display": false
  }
 },
 "nbformat": 4,
 "nbformat_minor": 2
}
