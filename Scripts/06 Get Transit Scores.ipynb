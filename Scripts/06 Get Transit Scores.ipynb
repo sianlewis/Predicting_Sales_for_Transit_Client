{
 "cells": [
  {
   "cell_type": "code",
   "execution_count": null,
   "metadata": {
    "collapsed": true
   },
   "outputs": [],
   "source": [
    "import keys\n",
    "import pandas as pd\n",
    "import requests\n",
    "from pprint import pprint\n",
    "import json\n",
    "import numpy as np"
   ]
  },
  {
   "cell_type": "code",
   "execution_count": null,
   "metadata": {
    "collapsed": true
   },
   "outputs": [],
   "source": [
    "df = pd.read_csv('merged_scraped_cleaned.csv')"
   ]
  },
  {
   "cell_type": "code",
   "execution_count": null,
   "metadata": {
    "collapsed": true
   },
   "outputs": [],
   "source": [
    "df.shape"
   ]
  },
  {
   "cell_type": "code",
   "execution_count": null,
   "metadata": {
    "collapsed": true
   },
   "outputs": [],
   "source": [
    "df.head()"
   ]
  },
  {
   "cell_type": "code",
   "execution_count": null,
   "metadata": {
    "collapsed": true
   },
   "outputs": [],
   "source": [
    "#add new columns for Transit Screen API info"
   ]
  },
  {
   "cell_type": "code",
   "execution_count": null,
   "metadata": {
    "collapsed": true
   },
   "outputs": [],
   "source": [
    "df['ts_response'] = np.nan\n",
    "df['mobility_score'] = np.nan\n",
    "df['carshare'] = np.nan\n",
    "df['bikeshare'] = np.nan\n",
    "df['ridehailing'] = np.nan\n",
    "df['masstransit'] = np.nan"
   ]
  },
  {
   "cell_type": "code",
   "execution_count": null,
   "metadata": {
    "collapsed": true
   },
   "outputs": [],
   "source": [
    "base_url = 'http://mobilityscore-dev.transitscreen.io/api/v1/locations.json?&debug=true'\n",
    "key = keys.ts\n",
    "\n",
    "for i, row in df[(df['ts_response'].isnull()==True)\n",
    "                 #& (df['id']=='0061a00000GcQdL') #for test\n",
    "                ].iterrows():\n",
    "    #print(row.id, row.name, row.lat, row.lng)\n",
    "    try:\n",
    "        url = base_url +'&key='+key+'&geojson=true&coordinates='+str(row.lat)+','+str(row.lng)\n",
    "        #(print(url))\n",
    "        response = requests.get(url) #wait up to 10 seconds\n",
    "        data = json.loads(response.text)\n",
    "        full_response = data['data']\n",
    "        mobility_score = full_response['mobilityScore']['score']\n",
    "        #print (mobility_score)\n",
    "        raw_scores = full_response['mobilityScore']['rawScoreBreakdown']\n",
    "        #print (raw_scores)\n",
    "        carshare = raw_scores['carshare']\n",
    "        bikeshare = raw_scores['bikeshare']\n",
    "        ridehailing = raw_scores['ridehailing']\n",
    "        masstransit = raw_scores['masstransit']\n",
    "        #print(carshare, bikeshare, ridehailing, masstransit)\n",
    "        df.loc[df['id']==row.id, 'ts_response'] = data\n",
    "        df.loc[df['id']==row.id, 'mobility_score'] = mobility_score\n",
    "        df.loc[df['id']==row.id, 'carshare'] = carshare\n",
    "        df.loc[df['id']==row.id, 'bikeshare'] = bikeshare\n",
    "        df.loc[df['id']==row.id, 'ridehailing'] = ridehailing\n",
    "        df.loc[df['id']==row.id, 'masstransit'] = masstransit\n",
    "    except:\n",
    "        print('error on', i, raw_scores)\n",
    "    if i%100 == 0:\n",
    "        df.to_csv('model_data.csv', index=False)\n",
    "        print (i, raw_scores)\n"
   ]
  },
  {
   "cell_type": "code",
   "execution_count": null,
   "metadata": {
    "collapsed": true
   },
   "outputs": [],
   "source": [
    "df[df.id == '0061a00000GcQdL']"
   ]
  },
  {
   "cell_type": "code",
   "execution_count": null,
   "metadata": {
    "collapsed": true
   },
   "outputs": [],
   "source": [
    "df.to_csv('model_data.csv', index=False)"
   ]
  },
  {
   "cell_type": "code",
   "execution_count": null,
   "metadata": {
    "collapsed": true
   },
   "outputs": [],
   "source": [
    "df.to_csv('model_data_transit_scores_only.csv', index=False)"
   ]
  },
  {
   "cell_type": "code",
   "execution_count": null,
   "metadata": {
    "collapsed": true
   },
   "outputs": [],
   "source": [
    "df = pd.read_csv('model_data.csv')"
   ]
  },
  {
   "cell_type": "code",
   "execution_count": null,
   "metadata": {
    "collapsed": true
   },
   "outputs": [],
   "source": [
    "df.head(100)"
   ]
  }
 ],
 "metadata": {
  "kernelspec": {
   "display_name": "Python 3",
   "language": "python",
   "name": "python3"
  },
  "language_info": {
   "codemirror_mode": {
    "name": "ipython",
    "version": 3
   },
   "file_extension": ".py",
   "mimetype": "text/x-python",
   "name": "python",
   "nbconvert_exporter": "python",
   "pygments_lexer": "ipython3",
   "version": "3.6.4"
  },
  "toc": {
   "nav_menu": {},
   "number_sections": true,
   "sideBar": true,
   "skip_h1_title": false,
   "title_cell": "Table of Contents",
   "title_sidebar": "Contents",
   "toc_cell": false,
   "toc_position": {},
   "toc_section_display": true,
   "toc_window_display": false
  }
 },
 "nbformat": 4,
 "nbformat_minor": 2
}
