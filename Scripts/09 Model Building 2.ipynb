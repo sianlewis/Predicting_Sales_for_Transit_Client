{
 "cells": [
  {
   "cell_type": "markdown",
   "metadata": {},
   "source": [
    "### 09 Model Building & Grid Searching"
   ]
  },
  {
   "cell_type": "code",
   "execution_count": null,
   "metadata": {
    "ExecuteTime": {
     "end_time": "2018-03-26T02:53:03.638505Z",
     "start_time": "2018-03-26T02:53:03.342345Z"
    },
    "collapsed": true
   },
   "outputs": [],
   "source": [
    "import pandas as pd\n",
    "import numpy as np\n",
    "from sklearn.model_selection import train_test_split\n",
    "from sklearn.model_selection import KFold, cross_val_score, cross_val_predict\n",
    "from sklearn import metrics\n",
    "from sklearn.ensemble import RandomForestClassifier, BaggingClassifier, ExtraTreesClassifier\n",
    "from sklearn.ensemble import AdaBoostClassifier\n",
    "from sklearn.ensemble import GradientBoostingClassifier\n",
    "from sklearn.preprocessing import StandardScaler\n",
    "# from keras.models import Sequential\n",
    "# from keras.layers import Dense\n",
    "# from keras.optimizers import Adam\n",
    "# from keras.layers import Dropout\n",
    "from sklearn.model_selection import GridSearchCV\n",
    "import csv\n",
    "import matplotlib.pyplot as plt\n",
    "from sklearn.linear_model import LogisticRegression\n",
    "%matplotlib inline\n",
    "%config InlineBackend.figure_format = 'retina'\n",
    "random_state = 42"
   ]
  },
  {
   "cell_type": "code",
   "execution_count": null,
   "metadata": {},
   "outputs": [],
   "source": [
    "!pip3 install xgboost"
   ]
  },
  {
   "cell_type": "code",
   "execution_count": null,
   "metadata": {},
   "outputs": [],
   "source": [
    "import sys\n",
    "print(sys.base_prefix)"
   ]
  },
  {
   "cell_type": "code",
   "execution_count": null,
   "metadata": {
    "ExecuteTime": {
     "end_time": "2018-03-26T02:51:49.531172Z",
     "start_time": "2018-03-26T02:51:47.981685Z"
    },
    "collapsed": true
   },
   "outputs": [],
   "source": [
    "import xgboost as xgb\n",
    "from xgboost.sklearn import XGBClassifier"
   ]
  },
  {
   "cell_type": "code",
   "execution_count": null,
   "metadata": {
    "ExecuteTime": {
     "end_time": "2018-03-26T02:52:34.006756Z",
     "start_time": "2018-03-26T02:52:32.689065Z"
    },
    "collapsed": true
   },
   "outputs": [],
   "source": [
    "model = pd.read_csv('model data snow day.csv')"
   ]
  },
  {
   "cell_type": "code",
   "execution_count": null,
   "metadata": {},
   "outputs": [],
   "source": [
    "# feature engineering\n",
    "# engineer a number out of stage\n",
    "model.stage.value_counts()"
   ]
  },
  {
   "cell_type": "markdown",
   "metadata": {},
   "source": [
    "#### Closed, Deal Signed, Invoice Sent = 1; otherwise 0"
   ]
  },
  {
   "cell_type": "code",
   "execution_count": null,
   "metadata": {
    "ExecuteTime": {
     "end_time": "2018-03-26T02:52:35.265816Z",
     "start_time": "2018-03-26T02:52:35.260527Z"
    },
    "collapsed": true
   },
   "outputs": [],
   "source": [
    "def translate_stage(stage):\n",
    "    if stage in ['Closed Won', 'Deal Signed', 'Invoice Sent']:\n",
    "        return(1)\n",
    "    else:\n",
    "        return (0)"
   ]
  },
  {
   "cell_type": "code",
   "execution_count": null,
   "metadata": {
    "ExecuteTime": {
     "end_time": "2018-03-26T02:52:37.218993Z",
     "start_time": "2018-03-26T02:52:37.203377Z"
    },
    "collapsed": true
   },
   "outputs": [],
   "source": [
    "model['y'] = model['stage'].apply(translate_stage)"
   ]
  },
  {
   "cell_type": "code",
   "execution_count": null,
   "metadata": {
    "ExecuteTime": {
     "end_time": "2018-03-26T02:52:38.340497Z",
     "start_time": "2018-03-26T02:52:38.327378Z"
    }
   },
   "outputs": [],
   "source": [
    "model.shape"
   ]
  },
  {
   "cell_type": "markdown",
   "metadata": {},
   "source": [
    "#### Feature engineering"
   ]
  },
  {
   "cell_type": "code",
   "execution_count": null,
   "metadata": {
    "ExecuteTime": {
     "end_time": "2018-03-26T02:52:40.188523Z",
     "start_time": "2018-03-26T02:52:40.177389Z"
    },
    "collapsed": true
   },
   "outputs": [],
   "source": [
    "# feature engineering\n",
    "y = model['y']\n",
    "X = model[['lat', 'lng',\n",
    "           'mobility_score',\n",
    "           'carshare',\n",
    "           'bikeshare',\n",
    "           'ridehailing',\n",
    "           'masstransit',\n",
    "           'closest_ts',\n",
    "           'within_one_tenth',\n",
    "           'within_one_half',\n",
    "           'within_one'\n",
    "           ]]"
   ]
  },
  {
   "cell_type": "markdown",
   "metadata": {},
   "source": [
    "#### Conducting a train/test split"
   ]
  },
  {
   "cell_type": "code",
   "execution_count": null,
   "metadata": {
    "ExecuteTime": {
     "end_time": "2018-03-26T02:52:41.635356Z",
     "start_time": "2018-03-26T02:52:41.626380Z"
    },
    "collapsed": true
   },
   "outputs": [],
   "source": [
    "X_train, X_test, y_train, y_test = train_test_split(\n",
    "    X, y, test_size=0.30, random_state=14)"
   ]
  },
  {
   "cell_type": "markdown",
   "metadata": {},
   "source": [
    "#### Calculating our baseline"
   ]
  },
  {
   "cell_type": "code",
   "execution_count": null,
   "metadata": {},
   "outputs": [],
   "source": [
    "# calculate baseline\n",
    "print(y.value_counts())\n",
    "print(1 - (456 / (1227+456)))"
   ]
  },
  {
   "cell_type": "markdown",
   "metadata": {},
   "source": [
    "### Logistic Regression"
   ]
  },
  {
   "cell_type": "code",
   "execution_count": null,
   "metadata": {},
   "outputs": [],
   "source": [
    "% % time\n",
    "logreg_params = {\n",
    "    'penalty': ['l2'],\n",
    "    'C': [1.0]\n",
    "}\n",
    "\n",
    "logreg_gd = GridSearchCV(LogisticRegression(), logreg_params, verbose=1, cv=5)\n",
    "logreg_gd.fit(X_train, y_train)"
   ]
  },
  {
   "cell_type": "code",
   "execution_count": null,
   "metadata": {},
   "outputs": [],
   "source": [
    "print(logreg_gd.best_score_)\n",
    "print(logreg_gd.best_params_)\n",
    "logreg_best = logreg_gd.best_estimator_\n",
    "logreg_best"
   ]
  },
  {
   "cell_type": "code",
   "execution_count": null,
   "metadata": {
    "ExecuteTime": {
     "end_time": "2018-03-26T03:18:07.798048Z",
     "start_time": "2018-03-26T03:18:07.771371Z"
    }
   },
   "outputs": [],
   "source": [
    "logreg = LogisticRegression(C=1.0, penalty='l2', random_state=1)\n",
    "logreg.fit(X_train, y_train)\n",
    "\n",
    "print('Intercept', logreg.intercept_)\n",
    "print('Coefficients', logreg.coef_)\n",
    "print('Predicted probability', logreg.predict_proba(X))"
   ]
  },
  {
   "cell_type": "code",
   "execution_count": null,
   "metadata": {
    "ExecuteTime": {
     "end_time": "2018-03-26T03:18:09.643095Z",
     "start_time": "2018-03-26T03:18:09.596389Z"
    }
   },
   "outputs": [],
   "source": [
    "cross_val_score(logreg, X_train, y_train, cv=5, scoring='accuracy').mean()"
   ]
  },
  {
   "cell_type": "code",
   "execution_count": null,
   "metadata": {
    "ExecuteTime": {
     "end_time": "2018-03-26T02:53:46.164182Z",
     "start_time": "2018-03-26T02:53:46.161082Z"
    },
    "collapsed": true
   },
   "outputs": [],
   "source": [
    "from sklearn.metrics import confusion_matrix"
   ]
  },
  {
   "cell_type": "code",
   "execution_count": null,
   "metadata": {
    "ExecuteTime": {
     "end_time": "2018-03-26T03:18:12.942527Z",
     "start_time": "2018-03-26T03:18:12.938687Z"
    },
    "collapsed": true
   },
   "outputs": [],
   "source": [
    "logreg_pred = logreg.predict(X_test)"
   ]
  },
  {
   "cell_type": "code",
   "execution_count": null,
   "metadata": {},
   "outputs": [],
   "source": [
    "logreg_proba = logreg.predict_proba(X_test)\n",
    "logreg_proba"
   ]
  },
  {
   "cell_type": "markdown",
   "metadata": {},
   "source": [
    "#### Logistic Regression Confusion Matrix"
   ]
  },
  {
   "cell_type": "code",
   "execution_count": null,
   "metadata": {
    "ExecuteTime": {
     "end_time": "2018-03-26T03:18:14.089779Z",
     "start_time": "2018-03-26T03:18:14.080389Z"
    }
   },
   "outputs": [],
   "source": [
    "logreg_CM = confusion_matrix(\n",
    "    y_test, y_pred=logreg_pred, labels=None, sample_weight=None)\n",
    "logreg_CM"
   ]
  },
  {
   "cell_type": "markdown",
   "metadata": {},
   "source": [
    "\n",
    "- Specificity: 53.67%"
   ]
  },
  {
   "cell_type": "markdown",
   "metadata": {},
   "source": [
    "- True negatives: 360\n",
    "- False positives: 19\n",
    "- False negatives: 104\n",
    "- True positives: 22 "
   ]
  },
  {
   "cell_type": "markdown",
   "metadata": {},
   "source": [
    "##### Specificity"
   ]
  },
  {
   "cell_type": "code",
   "execution_count": null,
   "metadata": {},
   "outputs": [],
   "source": [
    "print(360/(360+19))"
   ]
  },
  {
   "cell_type": "markdown",
   "metadata": {},
   "source": [
    "##### Sensitivity"
   ]
  },
  {
   "cell_type": "code",
   "execution_count": null,
   "metadata": {},
   "outputs": [],
   "source": [
    "print(22/(104+22))"
   ]
  },
  {
   "cell_type": "code",
   "execution_count": null,
   "metadata": {
    "collapsed": true
   },
   "outputs": [],
   "source": [
    "# plt.scatter(logreg_pred, ) #predictions vs. closed"
   ]
  },
  {
   "cell_type": "code",
   "execution_count": null,
   "metadata": {
    "ExecuteTime": {
     "end_time": "2018-03-26T02:53:47.713777Z",
     "start_time": "2018-03-26T02:53:47.709651Z"
    },
    "collapsed": true
   },
   "outputs": [],
   "source": [
    "from sklearn.metrics import classification_report"
   ]
  },
  {
   "cell_type": "markdown",
   "metadata": {},
   "source": [
    "#### Logistic Regression Classification Report"
   ]
  },
  {
   "cell_type": "code",
   "execution_count": null,
   "metadata": {},
   "outputs": [],
   "source": [
    "print(classification_report(y_test, logreg_pred))"
   ]
  },
  {
   "cell_type": "markdown",
   "metadata": {},
   "source": [
    "- Precision: 72%\n"
   ]
  },
  {
   "cell_type": "code",
   "execution_count": null,
   "metadata": {
    "ExecuteTime": {
     "end_time": "2018-03-26T02:53:49.293898Z",
     "start_time": "2018-03-26T02:53:49.290291Z"
    },
    "collapsed": true
   },
   "outputs": [],
   "source": [
    "from sklearn.metrics import roc_auc_score"
   ]
  },
  {
   "cell_type": "markdown",
   "metadata": {},
   "source": [
    "#### Logistic Regression ROC-AUC Score"
   ]
  },
  {
   "cell_type": "code",
   "execution_count": null,
   "metadata": {},
   "outputs": [],
   "source": [
    "roc_auc_score(y_test, logreg_pred, average='samples', )"
   ]
  },
  {
   "cell_type": "markdown",
   "metadata": {},
   "source": [
    "### Random Forest Classifier"
   ]
  },
  {
   "cell_type": "markdown",
   "metadata": {},
   "source": [
    "#### Grid searching, hyperparameter tuning"
   ]
  },
  {
   "cell_type": "code",
   "execution_count": null,
   "metadata": {},
   "outputs": [],
   "source": [
    "% % time\n",
    "ranfor_params = {\n",
    "    'n_estimators': [500],\n",
    "    'max_depth': [5],\n",
    "    'min_samples_split': [2],\n",
    "    'min_samples_leaf': [1],\n",
    "    'max_features': [3]\n",
    "\n",
    "}\n",
    "\n",
    "ranfor_gd = GridSearchCV(RandomForestClassifier(),\n",
    "                         ranfor_params, verbose=1, cv=5)\n",
    "ranfor_gd.fit(X_train, y_train)"
   ]
  },
  {
   "cell_type": "code",
   "execution_count": null,
   "metadata": {},
   "outputs": [],
   "source": [
    "print(ranfor_gd.best_score_)\n",
    "print(ranfor_gd.best_params_)"
   ]
  },
  {
   "cell_type": "markdown",
   "metadata": {},
   "source": [
    "#### Building our model with the tuned hyperparamters"
   ]
  },
  {
   "cell_type": "code",
   "execution_count": null,
   "metadata": {
    "ExecuteTime": {
     "end_time": "2018-03-26T03:19:49.380621Z",
     "start_time": "2018-03-26T03:19:49.375630Z"
    },
    "collapsed": true
   },
   "outputs": [],
   "source": [
    "ranfor_best = RandomForestClassifier(n_estimators=500, max_depth=5, min_samples_split=2,\n",
    "                                     min_samples_leaf=1, max_features=3, random_state=2)"
   ]
  },
  {
   "cell_type": "code",
   "execution_count": null,
   "metadata": {
    "ExecuteTime": {
     "end_time": "2018-03-26T03:19:50.404255Z",
     "start_time": "2018-03-26T03:19:49.612121Z"
    }
   },
   "outputs": [],
   "source": [
    "ranfor_best.fit(X_train, y_train)"
   ]
  },
  {
   "cell_type": "code",
   "execution_count": null,
   "metadata": {
    "ExecuteTime": {
     "end_time": "2018-03-26T03:19:53.950871Z",
     "start_time": "2018-03-26T03:19:50.406393Z"
    }
   },
   "outputs": [],
   "source": [
    "ranfor_best_scores = cross_val_score(ranfor_best, X_train, y_train, cv=5)\n",
    "print(ranfor_best_scores)\n",
    "print(np.mean(ranfor_best_scores))"
   ]
  },
  {
   "cell_type": "code",
   "execution_count": null,
   "metadata": {
    "ExecuteTime": {
     "end_time": "2018-03-26T03:19:53.985226Z",
     "start_time": "2018-03-26T03:19:53.953159Z"
    },
    "collapsed": true
   },
   "outputs": [],
   "source": [
    "features_ranfor = pd.DataFrame(list(zip(\n",
    "    X.columns, ranfor_best.feature_importances_)), columns=['feature', 'importance'])"
   ]
  },
  {
   "cell_type": "code",
   "execution_count": null,
   "metadata": {
    "ExecuteTime": {
     "end_time": "2018-03-26T03:19:54.269222Z",
     "start_time": "2018-03-26T03:19:53.987673Z"
    }
   },
   "outputs": [],
   "source": [
    "features_ranfor.plot(kind='bar', title='Random Forest Classifier Model Feature Importance',\n",
    "                     x='feature', y='importance', fontsize='large')\n",
    "plt.xticks(rotation=90)\n",
    "plt.xlabel('Features', fontsize='large')\n",
    "plt.ylabel('Feature importance', fontsize='large')"
   ]
  },
  {
   "cell_type": "code",
   "execution_count": null,
   "metadata": {
    "ExecuteTime": {
     "end_time": "2018-03-26T03:19:54.282773Z",
     "start_time": "2018-03-26T03:19:54.271798Z"
    }
   },
   "outputs": [],
   "source": [
    "features_ranfor"
   ]
  },
  {
   "cell_type": "code",
   "execution_count": null,
   "metadata": {
    "ExecuteTime": {
     "end_time": "2018-03-26T03:19:54.538595Z",
     "start_time": "2018-03-26T03:19:54.290064Z"
    },
    "collapsed": true
   },
   "outputs": [],
   "source": [
    "ranfor_pred = ranfor_best.predict(X_test)"
   ]
  },
  {
   "cell_type": "markdown",
   "metadata": {},
   "source": [
    "#### Random Forest Classifier Confusion Matrix"
   ]
  },
  {
   "cell_type": "code",
   "execution_count": null,
   "metadata": {
    "ExecuteTime": {
     "end_time": "2018-03-26T03:19:54.558754Z",
     "start_time": "2018-03-26T03:19:54.543531Z"
    }
   },
   "outputs": [],
   "source": [
    "ranfor_CM = confusion_matrix(y_test, ranfor_pred)\n",
    "ranfor_CM"
   ]
  },
  {
   "cell_type": "markdown",
   "metadata": {},
   "source": [
    "- True positives: 24\n",
    "- False negatives: 102\n",
    "- False positives: 18\n",
    "- True negatives: 361"
   ]
  },
  {
   "cell_type": "markdown",
   "metadata": {},
   "source": [
    "##### Specificity"
   ]
  },
  {
   "cell_type": "code",
   "execution_count": null,
   "metadata": {},
   "outputs": [],
   "source": [
    "print(361/(361+18))"
   ]
  },
  {
   "cell_type": "markdown",
   "metadata": {},
   "source": [
    "##### Sensitivity"
   ]
  },
  {
   "cell_type": "code",
   "execution_count": null,
   "metadata": {},
   "outputs": [],
   "source": [
    "print(24/(24+102))"
   ]
  },
  {
   "cell_type": "markdown",
   "metadata": {
    "ExecuteTime": {
     "end_time": "2018-03-26T03:20:27.907616Z",
     "start_time": "2018-03-26T03:20:27.904358Z"
    }
   },
   "source": [
    "#### Random Forest Classifier ROC-AUC Score"
   ]
  },
  {
   "cell_type": "code",
   "execution_count": null,
   "metadata": {
    "ExecuteTime": {
     "end_time": "2018-03-26T03:19:54.567876Z",
     "start_time": "2018-03-26T03:19:54.561475Z"
    }
   },
   "outputs": [],
   "source": [
    "roc_auc_score(y_test, y_score=ranfor_pred)"
   ]
  },
  {
   "cell_type": "markdown",
   "metadata": {},
   "source": [
    "#### Random Forest Classifier Classification Report"
   ]
  },
  {
   "cell_type": "code",
   "execution_count": null,
   "metadata": {
    "ExecuteTime": {
     "end_time": "2018-03-26T03:19:54.575516Z",
     "start_time": "2018-03-26T03:19:54.569660Z"
    }
   },
   "outputs": [],
   "source": [
    "print(classification_report(y_test, ranfor_pred))"
   ]
  },
  {
   "cell_type": "markdown",
   "metadata": {},
   "source": [
    "- Precision: 73%\n",
    "- Recall/sensitivity: 76%"
   ]
  },
  {
   "cell_type": "markdown",
   "metadata": {},
   "source": [
    "### Gradient Boost Classifier"
   ]
  },
  {
   "cell_type": "markdown",
   "metadata": {},
   "source": [
    "#### Grid searching, hyperparamter tuning"
   ]
  },
  {
   "cell_type": "code",
   "execution_count": null,
   "metadata": {},
   "outputs": [],
   "source": [
    "% % time\n",
    "gradboost_params = {\n",
    "    'loss': ['exponential'],\n",
    "    'learning_rate': [0.01],\n",
    "    'n_estimators': [300],\n",
    "    'max_depth': [1],\n",
    "    'min_samples_leaf': [1],\n",
    "    'max_features': [8]\n",
    "}\n",
    "\n",
    "gradboost_gd = GridSearchCV(\n",
    "    GradientBoostingClassifier(), gradboost_params, verbose=1, cv=5)\n",
    "gradboost_gd.fit(X_train, y_train)"
   ]
  },
  {
   "cell_type": "code",
   "execution_count": null,
   "metadata": {},
   "outputs": [],
   "source": [
    "print(gradboost_gd.best_score_)\n",
    "print(gradboost_gd.best_params_)"
   ]
  },
  {
   "cell_type": "code",
   "execution_count": null,
   "metadata": {
    "ExecuteTime": {
     "end_time": "2018-03-26T02:56:45.820275Z",
     "start_time": "2018-03-26T02:56:45.657322Z"
    }
   },
   "outputs": [],
   "source": [
    "gradboost_best = GradientBoostingClassifier(loss='exponential', learning_rate=0.01,\n",
    "                                            n_estimators=300, max_depth=1, min_samples_leaf=1, max_features=8,\n",
    "                                            random_state=3)\n",
    "gradboost_best.fit(X_train, y_train)"
   ]
  },
  {
   "cell_type": "code",
   "execution_count": null,
   "metadata": {
    "ExecuteTime": {
     "end_time": "2018-03-26T02:56:46.511925Z",
     "start_time": "2018-03-26T02:56:45.895058Z"
    }
   },
   "outputs": [],
   "source": [
    "gradboost_scores = cross_val_score(gradboost_best, X_train, y_train, cv=5)\n",
    "print(gradboost_scores)\n",
    "print(np.mean(gradboost_scores))"
   ]
  },
  {
   "cell_type": "code",
   "execution_count": null,
   "metadata": {
    "ExecuteTime": {
     "end_time": "2018-03-26T02:56:46.527682Z",
     "start_time": "2018-03-26T02:56:46.514144Z"
    },
    "collapsed": true
   },
   "outputs": [],
   "source": [
    "features_gradboost = pd.DataFrame(list(zip(\n",
    "    X.columns, gradboost_best.feature_importances_)), columns=['feature', 'importance'])"
   ]
  },
  {
   "cell_type": "code",
   "execution_count": null,
   "metadata": {
    "ExecuteTime": {
     "end_time": "2018-03-26T02:56:46.822921Z",
     "start_time": "2018-03-26T02:56:46.529864Z"
    }
   },
   "outputs": [],
   "source": [
    "features_gradboost.plot(kind='bar', title='Gradient Boost Classifier Feature Importance',\n",
    "                        x='feature', y='importance', fontsize='large', sort_columns=True, legend=False)\n",
    "plt.xticks(rotation=90)\n",
    "plt.xlabel('Features', fontsize='large')\n",
    "plt.ylabel('Feature importance', fontsize='large')"
   ]
  },
  {
   "cell_type": "code",
   "execution_count": null,
   "metadata": {
    "ExecuteTime": {
     "end_time": "2018-03-26T02:56:46.835286Z",
     "start_time": "2018-03-26T02:56:46.825232Z"
    }
   },
   "outputs": [],
   "source": [
    "features_gradboost"
   ]
  },
  {
   "cell_type": "code",
   "execution_count": null,
   "metadata": {
    "ExecuteTime": {
     "end_time": "2018-03-26T02:56:46.842593Z",
     "start_time": "2018-03-26T02:56:46.837606Z"
    },
    "collapsed": true
   },
   "outputs": [],
   "source": [
    "gradboost_pred = gradboost_best.predict(X_test)"
   ]
  },
  {
   "cell_type": "markdown",
   "metadata": {},
   "source": [
    "#### Gradient Boost Classifier Confusion Matrix"
   ]
  },
  {
   "cell_type": "code",
   "execution_count": null,
   "metadata": {
    "ExecuteTime": {
     "end_time": "2018-03-26T02:56:47.021438Z",
     "start_time": "2018-03-26T02:56:47.005866Z"
    }
   },
   "outputs": [],
   "source": [
    "gradboost_CM = confusion_matrix(y_test, gradboost_pred)\n",
    "gradboost_CM"
   ]
  },
  {
   "cell_type": "markdown",
   "metadata": {},
   "source": [
    "- True positives: 24\n",
    "- False negatives: 102\n",
    "- False positives: 21\n",
    "- True negatives: 358"
   ]
  },
  {
   "cell_type": "markdown",
   "metadata": {},
   "source": [
    "##### Specificity"
   ]
  },
  {
   "cell_type": "code",
   "execution_count": null,
   "metadata": {},
   "outputs": [],
   "source": [
    "print(358/(358+21))"
   ]
  },
  {
   "cell_type": "markdown",
   "metadata": {},
   "source": [
    "##### Sensitivity"
   ]
  },
  {
   "cell_type": "code",
   "execution_count": null,
   "metadata": {},
   "outputs": [],
   "source": [
    "print(24/(24+102))"
   ]
  },
  {
   "cell_type": "markdown",
   "metadata": {},
   "source": [
    "#### Gradient Boost Classifier ROC-AUC Score"
   ]
  },
  {
   "cell_type": "code",
   "execution_count": null,
   "metadata": {
    "ExecuteTime": {
     "end_time": "2018-03-26T02:56:47.220924Z",
     "start_time": "2018-03-26T02:56:47.210557Z"
    }
   },
   "outputs": [],
   "source": [
    "roc_auc_score(y_test, gradboost_pred)"
   ]
  },
  {
   "cell_type": "markdown",
   "metadata": {},
   "source": [
    "#### Gradient Boost Classifier Classification Report"
   ]
  },
  {
   "cell_type": "code",
   "execution_count": null,
   "metadata": {
    "ExecuteTime": {
     "end_time": "2018-03-26T02:56:47.408489Z",
     "start_time": "2018-03-26T02:56:47.402374Z"
    }
   },
   "outputs": [],
   "source": [
    "print(classification_report(y_test, gradboost_pred))"
   ]
  },
  {
   "cell_type": "markdown",
   "metadata": {},
   "source": [
    "- Precision: 72%\n",
    "- Recall: 76%"
   ]
  },
  {
   "cell_type": "markdown",
   "metadata": {},
   "source": [
    "### AdaBoost Classifier"
   ]
  },
  {
   "cell_type": "markdown",
   "metadata": {},
   "source": [
    "#### Grid Searching, Hyperparameter tuning"
   ]
  },
  {
   "cell_type": "code",
   "execution_count": null,
   "metadata": {},
   "outputs": [],
   "source": [
    "% % time\n",
    "adaboost_params = {\n",
    "    'n_estimators': [25],\n",
    "    'learning_rate': [0.1],\n",
    "\n",
    "}\n",
    "\n",
    "adaboost_gd = GridSearchCV(\n",
    "    AdaBoostClassifier(), adaboost_params, verbose=1, cv=5)\n",
    "adaboost_gd.fit(X_train, y_train)"
   ]
  },
  {
   "cell_type": "code",
   "execution_count": null,
   "metadata": {},
   "outputs": [],
   "source": [
    "print(adaboost_gd.best_score_)\n",
    "print(adaboost_gd.best_params_)"
   ]
  },
  {
   "cell_type": "markdown",
   "metadata": {},
   "source": [
    "#### Building the model with the tuned hyperparamters"
   ]
  },
  {
   "cell_type": "code",
   "execution_count": null,
   "metadata": {
    "ExecuteTime": {
     "end_time": "2018-03-26T02:57:06.217490Z",
     "start_time": "2018-03-26T02:57:06.160917Z"
    }
   },
   "outputs": [],
   "source": [
    "adaboost_best = AdaBoostClassifier(\n",
    "    learning_rate=0.1, n_estimators=25, random_state=4)\n",
    "adaboost_best.fit(X_train, y_train)"
   ]
  },
  {
   "cell_type": "code",
   "execution_count": null,
   "metadata": {
    "ExecuteTime": {
     "end_time": "2018-03-26T02:57:06.649675Z",
     "start_time": "2018-03-26T02:57:06.394779Z"
    }
   },
   "outputs": [],
   "source": [
    "adaboost_scores = cross_val_score(adaboost_best, X_train, y_train, cv=5)\n",
    "print(adaboost_scores)\n",
    "print(np.mean(adaboost_scores))"
   ]
  },
  {
   "cell_type": "markdown",
   "metadata": {},
   "source": [
    "#### AdaBoost Classifier Feature Importance"
   ]
  },
  {
   "cell_type": "code",
   "execution_count": null,
   "metadata": {
    "ExecuteTime": {
     "end_time": "2018-03-26T02:57:06.660557Z",
     "start_time": "2018-03-26T02:57:06.653482Z"
    },
    "collapsed": true
   },
   "outputs": [],
   "source": [
    "features_adaboost = pd.DataFrame(list(zip(\n",
    "    X.columns, adaboost_best.feature_importances_)), columns=['feature', 'importance'])"
   ]
  },
  {
   "cell_type": "code",
   "execution_count": null,
   "metadata": {
    "ExecuteTime": {
     "end_time": "2018-03-26T02:57:07.007254Z",
     "start_time": "2018-03-26T02:57:06.760881Z"
    }
   },
   "outputs": [],
   "source": [
    "features_adaboost.plot(kind='bar', title='AdaBoost Classifier Feature Importance',\n",
    "                       x='feature', y='importance', fontsize='large')\n",
    "plt.xticks(rotation=90)\n",
    "plt.xlabel('Features', fontsize='large')\n",
    "plt.ylabel('Feature importance', fontsize='large')"
   ]
  },
  {
   "cell_type": "code",
   "execution_count": null,
   "metadata": {
    "ExecuteTime": {
     "end_time": "2018-03-26T02:57:07.019780Z",
     "start_time": "2018-03-26T02:57:07.009361Z"
    }
   },
   "outputs": [],
   "source": [
    "features_adaboost"
   ]
  },
  {
   "cell_type": "code",
   "execution_count": null,
   "metadata": {
    "ExecuteTime": {
     "end_time": "2018-03-26T02:57:07.189535Z",
     "start_time": "2018-03-26T02:57:07.181052Z"
    },
    "collapsed": true
   },
   "outputs": [],
   "source": [
    "adaboost_pred = adaboost_best.predict(X_test)"
   ]
  },
  {
   "cell_type": "markdown",
   "metadata": {},
   "source": [
    "#### AdaBoost Classifier Confusion Matrix"
   ]
  },
  {
   "cell_type": "code",
   "execution_count": null,
   "metadata": {
    "ExecuteTime": {
     "end_time": "2018-03-26T02:57:07.683252Z",
     "start_time": "2018-03-26T02:57:07.675238Z"
    }
   },
   "outputs": [],
   "source": [
    "adaboost_CM = confusion_matrix(y_test, adaboost_pred)\n",
    "adaboost_CM"
   ]
  },
  {
   "cell_type": "markdown",
   "metadata": {},
   "source": [
    "- True positives: 25\n",
    "- False negatives: 101\n",
    "- False positives: 21\n",
    "- True negatives: 358"
   ]
  },
  {
   "cell_type": "markdown",
   "metadata": {},
   "source": [
    "##### Specificity"
   ]
  },
  {
   "cell_type": "code",
   "execution_count": null,
   "metadata": {},
   "outputs": [],
   "source": [
    "print(358/(358+21))"
   ]
  },
  {
   "cell_type": "markdown",
   "metadata": {},
   "source": [
    "##### Sensitivity"
   ]
  },
  {
   "cell_type": "code",
   "execution_count": null,
   "metadata": {},
   "outputs": [],
   "source": [
    "print(25/(25+101))"
   ]
  },
  {
   "cell_type": "markdown",
   "metadata": {},
   "source": [
    "#### AdaBoost Classifier ROC-AUC score"
   ]
  },
  {
   "cell_type": "code",
   "execution_count": null,
   "metadata": {
    "ExecuteTime": {
     "end_time": "2018-03-26T02:57:07.882556Z",
     "start_time": "2018-03-26T02:57:07.873366Z"
    }
   },
   "outputs": [],
   "source": [
    "roc_auc_score(y_test, adaboost_pred)"
   ]
  },
  {
   "cell_type": "markdown",
   "metadata": {},
   "source": [
    "#### AdaBoost Classifier Classification Report"
   ]
  },
  {
   "cell_type": "code",
   "execution_count": null,
   "metadata": {
    "ExecuteTime": {
     "end_time": "2018-03-26T02:57:08.054121Z",
     "start_time": "2018-03-26T02:57:08.046048Z"
    }
   },
   "outputs": [],
   "source": [
    "print(classification_report(y_test, adaboost_pred))"
   ]
  },
  {
   "cell_type": "markdown",
   "metadata": {},
   "source": [
    "- Precision: 72%"
   ]
  },
  {
   "cell_type": "markdown",
   "metadata": {},
   "source": [
    "### XGBoost"
   ]
  },
  {
   "cell_type": "code",
   "execution_count": null,
   "metadata": {
    "ExecuteTime": {
     "end_time": "2018-03-26T02:52:47.756197Z",
     "start_time": "2018-03-26T02:52:47.729658Z"
    }
   },
   "outputs": [],
   "source": [
    "% % time\n",
    "xgb_params = {\n",
    "    'max_depth': [3],\n",
    "    'learning_rate': [0.01],\n",
    "    'n_estimators': [125],\n",
    "    'gamma': [0.05],\n",
    "    'min_child_weight': [1],\n",
    "    'subsample': [1.0],\n",
    "    'colsample_bytree': [0.6],\n",
    "    'reg_lambda': [0.01],\n",
    "    'reg_alpha': [0]\n",
    "}\n",
    "\n",
    "xgboost_gd = GridSearchCV(XGBClassifier(), xgb_params, verbose=1, cv=5)\n",
    "xgboost_gd.fit(X_train, y_train)"
   ]
  },
  {
   "cell_type": "code",
   "execution_count": null,
   "metadata": {},
   "outputs": [],
   "source": [
    "print(xgboost_gd.best_score_)\n",
    "print(xgboost_gd.best_params_)"
   ]
  },
  {
   "cell_type": "code",
   "execution_count": null,
   "metadata": {
    "ExecuteTime": {
     "end_time": "2018-03-26T02:57:25.216564Z",
     "start_time": "2018-03-26T02:57:25.142908Z"
    }
   },
   "outputs": [],
   "source": [
    "xgboost_best = XGBClassifier(max_depth=3, learning_rate=0.01, n_estimators=125, gamma=0.05, min_child_weight=1.0,\n",
    "                             subsample=1.0, colsample_bytree=0.6, reg_lambda=0.01, reg_alpha=0, random_state=5)\n",
    "xgboost_best.fit(X_train, y_train)"
   ]
  },
  {
   "cell_type": "code",
   "execution_count": null,
   "metadata": {
    "ExecuteTime": {
     "end_time": "2018-03-26T02:57:25.697625Z",
     "start_time": "2018-03-26T02:57:25.400418Z"
    }
   },
   "outputs": [],
   "source": [
    "xgb_scores = cross_val_score(xgboost_best, X_train, y_train, cv=5)\n",
    "print(xgb_scores)\n",
    "print(np.mean(xgb_scores))"
   ]
  },
  {
   "cell_type": "code",
   "execution_count": null,
   "metadata": {
    "ExecuteTime": {
     "end_time": "2018-03-26T02:57:25.707850Z",
     "start_time": "2018-03-26T02:57:25.699417Z"
    },
    "collapsed": true
   },
   "outputs": [],
   "source": [
    "features_xgboost = pd.DataFrame(list(zip(\n",
    "    X.columns, xgboost_best.feature_importances_)), columns=['feature', 'importance'])"
   ]
  },
  {
   "cell_type": "markdown",
   "metadata": {},
   "source": [
    "#### Extreme Gradient Boost Classifier Feature Importance"
   ]
  },
  {
   "cell_type": "code",
   "execution_count": null,
   "metadata": {
    "ExecuteTime": {
     "end_time": "2018-03-26T02:57:25.993634Z",
     "start_time": "2018-03-26T02:57:25.754681Z"
    }
   },
   "outputs": [],
   "source": [
    "features_xgboost.plot(kind='bar', title='XGBoost Classifier Feature Importance',\n",
    "                      x='feature', y='importance', fontsize='large')\n",
    "plt.xticks(rotation=90)\n",
    "plt.xlabel('Features', fontsize='large')\n",
    "plt.ylabel('Feature importance', fontsize='large')"
   ]
  },
  {
   "cell_type": "code",
   "execution_count": null,
   "metadata": {
    "ExecuteTime": {
     "end_time": "2018-03-26T02:57:26.007145Z",
     "start_time": "2018-03-26T02:57:25.996144Z"
    }
   },
   "outputs": [],
   "source": [
    "features_xgboost"
   ]
  },
  {
   "cell_type": "code",
   "execution_count": null,
   "metadata": {
    "ExecuteTime": {
     "end_time": "2018-03-26T02:57:26.135582Z",
     "start_time": "2018-03-26T02:57:26.128292Z"
    },
    "collapsed": true
   },
   "outputs": [],
   "source": [
    "xgb_pred = xgboost_best.predict(X_test)"
   ]
  },
  {
   "cell_type": "markdown",
   "metadata": {},
   "source": [
    "#### Extreme Gradient Boost Classifier Confusion Matrix"
   ]
  },
  {
   "cell_type": "code",
   "execution_count": null,
   "metadata": {
    "ExecuteTime": {
     "end_time": "2018-03-26T02:57:26.288805Z",
     "start_time": "2018-03-26T02:57:26.281148Z"
    }
   },
   "outputs": [],
   "source": [
    "xgb_CM = confusion_matrix(xgb_pred, y_test)\n",
    "xgb_CM"
   ]
  },
  {
   "cell_type": "markdown",
   "metadata": {},
   "source": [
    "- True positives: 23\n",
    "- False positives: 103\n",
    "- False negatives: 18\n",
    "- True negatives: 361"
   ]
  },
  {
   "cell_type": "markdown",
   "metadata": {},
   "source": [
    "##### Specificity"
   ]
  },
  {
   "cell_type": "code",
   "execution_count": null,
   "metadata": {},
   "outputs": [],
   "source": [
    "print(361/(361+103))"
   ]
  },
  {
   "cell_type": "markdown",
   "metadata": {},
   "source": [
    "##### Sensitivity"
   ]
  },
  {
   "cell_type": "code",
   "execution_count": null,
   "metadata": {},
   "outputs": [],
   "source": [
    "print(23/(23+18))"
   ]
  },
  {
   "cell_type": "markdown",
   "metadata": {
    "ExecuteTime": {
     "end_time": "2018-03-26T03:24:04.202501Z",
     "start_time": "2018-03-26T03:24:04.198005Z"
    }
   },
   "source": [
    "#### Extreme Gradient Boost Classifier ROC-AUC Score"
   ]
  },
  {
   "cell_type": "code",
   "execution_count": null,
   "metadata": {
    "ExecuteTime": {
     "end_time": "2018-03-26T02:57:26.521517Z",
     "start_time": "2018-03-26T02:57:26.515330Z"
    }
   },
   "outputs": [],
   "source": [
    "roc_auc_score(y_test, xgb_pred)"
   ]
  },
  {
   "cell_type": "markdown",
   "metadata": {},
   "source": [
    "#### Extreme Gradient Boost Classifier Classification Report"
   ]
  },
  {
   "cell_type": "code",
   "execution_count": null,
   "metadata": {
    "ExecuteTime": {
     "end_time": "2018-03-26T02:57:26.757823Z",
     "start_time": "2018-03-26T02:57:26.749646Z"
    }
   },
   "outputs": [],
   "source": [
    "print(classification_report(xgb_pred, y_test))"
   ]
  },
  {
   "cell_type": "markdown",
   "metadata": {
    "ExecuteTime": {
     "end_time": "2018-03-26T03:44:27.484934Z",
     "start_time": "2018-03-26T03:44:27.471964Z"
    }
   },
   "source": [
    "- Precision: 89%"
   ]
  },
  {
   "cell_type": "markdown",
   "metadata": {},
   "source": [
    "### Extra Trees Classifier"
   ]
  },
  {
   "cell_type": "code",
   "execution_count": null,
   "metadata": {},
   "outputs": [],
   "source": [
    "% % time\n",
    "ext_params = {\n",
    "    'max_features': [2],\n",
    "    'max_depth': [8],\n",
    "    'min_samples_split': [15],\n",
    "    'n_estimators': [800],\n",
    "    'min_samples_leaf': [1],\n",
    "    'criterion': ['entropy'],\n",
    "}\n",
    "\n",
    "ext_gd = GridSearchCV(ExtraTreesClassifier(), ext_params, verbose=1, cv=5)\n",
    "ext_gd.fit(X_train, y_train)"
   ]
  },
  {
   "cell_type": "code",
   "execution_count": null,
   "metadata": {},
   "outputs": [],
   "source": [
    "print(ext_gd.best_score_)\n",
    "print(ext_gd.best_params_)"
   ]
  },
  {
   "cell_type": "code",
   "execution_count": null,
   "metadata": {
    "ExecuteTime": {
     "end_time": "2018-03-26T02:57:35.100184Z",
     "start_time": "2018-03-26T02:57:34.181105Z"
    }
   },
   "outputs": [],
   "source": [
    "ext_best = ExtraTreesClassifier(max_depth=8, min_samples_leaf=1, n_estimators=800, min_samples_split=15,\n",
    "                                max_features=2, criterion='entropy', random_state=6)\n",
    "ext_best.fit(X_train, y_train)"
   ]
  },
  {
   "cell_type": "code",
   "execution_count": null,
   "metadata": {
    "ExecuteTime": {
     "end_time": "2018-03-26T02:57:39.732784Z",
     "start_time": "2018-03-26T02:57:35.104248Z"
    }
   },
   "outputs": [],
   "source": [
    "ext_scores = cross_val_score(ext_best, X_train, y_train, cv=5)\n",
    "print(ext_scores)\n",
    "print(np.mean(ext_scores))"
   ]
  },
  {
   "cell_type": "markdown",
   "metadata": {},
   "source": [
    "#### Extra Trees Classifier Feature Importance"
   ]
  },
  {
   "cell_type": "code",
   "execution_count": null,
   "metadata": {
    "ExecuteTime": {
     "end_time": "2018-03-26T02:57:39.773723Z",
     "start_time": "2018-03-26T02:57:39.734927Z"
    },
    "collapsed": true
   },
   "outputs": [],
   "source": [
    "features_ext = pd.DataFrame(list(\n",
    "    zip(X.columns, ext_best.feature_importances_)), columns=['feature', 'importance'])"
   ]
  },
  {
   "cell_type": "code",
   "execution_count": null,
   "metadata": {
    "ExecuteTime": {
     "end_time": "2018-03-26T02:57:39.986654Z",
     "start_time": "2018-03-26T02:57:39.775739Z"
    }
   },
   "outputs": [],
   "source": [
    "features_ext.plot(kind='bar', title='Extra Trees Classifier Feature Importance',\n",
    "                  x='feature', y='importance', fontsize='large')\n",
    "plt.xticks(rotation=90)\n",
    "plt.xlabel('Features', fontsize='large')\n",
    "plt.ylabel('Feature importance', fontsize='large')"
   ]
  },
  {
   "cell_type": "code",
   "execution_count": null,
   "metadata": {
    "ExecuteTime": {
     "end_time": "2018-03-26T02:57:58.717812Z",
     "start_time": "2018-03-26T02:57:58.646955Z"
    },
    "collapsed": true
   },
   "outputs": [],
   "source": [
    "ext_pred = ext_best.predict(X_test)"
   ]
  },
  {
   "cell_type": "markdown",
   "metadata": {
    "ExecuteTime": {
     "end_time": "2018-03-26T03:25:18.469658Z",
     "start_time": "2018-03-26T03:25:18.466086Z"
    }
   },
   "source": [
    "#### Extreme Trees Classifier Confusion Matrix"
   ]
  },
  {
   "cell_type": "code",
   "execution_count": null,
   "metadata": {
    "ExecuteTime": {
     "end_time": "2018-03-26T02:58:24.933515Z",
     "start_time": "2018-03-26T02:58:24.926120Z"
    }
   },
   "outputs": [],
   "source": [
    "ext_CM = confusion_matrix(y_test, ext_pred)\n",
    "ext_CM"
   ]
  },
  {
   "cell_type": "markdown",
   "metadata": {},
   "source": [
    "- True positives: 21\n",
    "- False negatives: 105\n",
    "- False positives: 8\n",
    "- True negatives: 371"
   ]
  },
  {
   "cell_type": "markdown",
   "metadata": {},
   "source": [
    "##### Specificity"
   ]
  },
  {
   "cell_type": "code",
   "execution_count": null,
   "metadata": {},
   "outputs": [],
   "source": [
    "print(371/(371+8))"
   ]
  },
  {
   "cell_type": "markdown",
   "metadata": {},
   "source": [
    "##### Sensitivity"
   ]
  },
  {
   "cell_type": "code",
   "execution_count": null,
   "metadata": {},
   "outputs": [],
   "source": [
    "print(21/(21+105))"
   ]
  },
  {
   "cell_type": "markdown",
   "metadata": {},
   "source": [
    "#### Extreme Trees Classifier ROC-AUC Score"
   ]
  },
  {
   "cell_type": "code",
   "execution_count": null,
   "metadata": {
    "ExecuteTime": {
     "end_time": "2018-03-26T02:58:37.072117Z",
     "start_time": "2018-03-26T02:58:37.064662Z"
    }
   },
   "outputs": [],
   "source": [
    "roc_auc_score(y_test, ext_pred)"
   ]
  },
  {
   "cell_type": "markdown",
   "metadata": {},
   "source": [
    "#### Extreme Trees Classifier Classification Report"
   ]
  },
  {
   "cell_type": "code",
   "execution_count": null,
   "metadata": {
    "ExecuteTime": {
     "end_time": "2018-03-26T02:59:03.434932Z",
     "start_time": "2018-03-26T02:59:03.427877Z"
    }
   },
   "outputs": [],
   "source": [
    "print(classification_report(y_test, ext_pred))"
   ]
  },
  {
   "cell_type": "markdown",
   "metadata": {},
   "source": [
    "- Precision: 77%"
   ]
  },
  {
   "cell_type": "markdown",
   "metadata": {},
   "source": [
    "### Bagging Classifier"
   ]
  },
  {
   "cell_type": "code",
   "execution_count": null,
   "metadata": {},
   "outputs": [],
   "source": [
    "% % time\n",
    "bag_params = {\n",
    "    'n_estimators': [800],\n",
    "    'max_samples': [50],\n",
    "    'bootstrap': [False],\n",
    "    'bootstrap_features': [True]\n",
    "\n",
    "}\n",
    "\n",
    "bag_gd = GridSearchCV(BaggingClassifier(), bag_params, verbose=1, cv=5)\n",
    "bag_gd.fit(X_train, y_train)"
   ]
  },
  {
   "cell_type": "code",
   "execution_count": null,
   "metadata": {},
   "outputs": [],
   "source": [
    "print(bag_gd.best_score_)\n",
    "print(bag_gd.best_params_)"
   ]
  },
  {
   "cell_type": "code",
   "execution_count": null,
   "metadata": {
    "ExecuteTime": {
     "end_time": "2018-03-26T02:59:17.300147Z",
     "start_time": "2018-03-26T02:59:16.445383Z"
    }
   },
   "outputs": [],
   "source": [
    "bag_best = BaggingClassifier(n_estimators=800, max_samples=50,\n",
    "                             bootstrap=False, bootstrap_features=True, random_state=7)\n",
    "bag_best.fit(X_train, y_train)"
   ]
  },
  {
   "cell_type": "code",
   "execution_count": null,
   "metadata": {
    "ExecuteTime": {
     "end_time": "2018-03-26T02:59:22.001893Z",
     "start_time": "2018-03-26T02:59:17.701010Z"
    }
   },
   "outputs": [],
   "source": [
    "bag_scores = cross_val_score(bag_best, X_train, y_train, cv=5)\n",
    "print(bag_scores)\n",
    "print(np.mean(bag_scores))"
   ]
  },
  {
   "cell_type": "code",
   "execution_count": null,
   "metadata": {
    "ExecuteTime": {
     "end_time": "2018-03-26T02:59:32.314447Z",
     "start_time": "2018-03-26T02:59:32.241879Z"
    },
    "collapsed": true
   },
   "outputs": [],
   "source": [
    "bag_pred = bag_best.predict(X_test)"
   ]
  },
  {
   "cell_type": "markdown",
   "metadata": {},
   "source": [
    "#### Bagging Trees Classifier Confusion Matrix"
   ]
  },
  {
   "cell_type": "code",
   "execution_count": null,
   "metadata": {
    "ExecuteTime": {
     "end_time": "2018-03-26T02:59:46.491177Z",
     "start_time": "2018-03-26T02:59:46.483881Z"
    }
   },
   "outputs": [],
   "source": [
    "bag_CM = confusion_matrix(y_test, bag_pred)\n",
    "bag_CM"
   ]
  },
  {
   "cell_type": "markdown",
   "metadata": {},
   "source": [
    "- True positives: 27\n",
    "- False negatives: 99\n",
    "- False positives: 14\n",
    "- True negatives: 365"
   ]
  },
  {
   "cell_type": "markdown",
   "metadata": {},
   "source": [
    "##### Specificity"
   ]
  },
  {
   "cell_type": "code",
   "execution_count": null,
   "metadata": {},
   "outputs": [],
   "source": [
    "print(365/(365+14))"
   ]
  },
  {
   "cell_type": "markdown",
   "metadata": {},
   "source": [
    "##### Sensitivity"
   ]
  },
  {
   "cell_type": "code",
   "execution_count": null,
   "metadata": {},
   "outputs": [],
   "source": [
    "print(27/(27+99))"
   ]
  },
  {
   "cell_type": "markdown",
   "metadata": {},
   "source": [
    "#### Bagging Trees Classifier ROC-AUC Score"
   ]
  },
  {
   "cell_type": "code",
   "execution_count": null,
   "metadata": {
    "ExecuteTime": {
     "end_time": "2018-03-26T03:00:00.854691Z",
     "start_time": "2018-03-26T03:00:00.848079Z"
    }
   },
   "outputs": [],
   "source": [
    "roc_auc_score(y_test, bag_pred)"
   ]
  },
  {
   "cell_type": "markdown",
   "metadata": {},
   "source": [
    "#### Bagging Trees Classifier Classification Report"
   ]
  },
  {
   "cell_type": "code",
   "execution_count": null,
   "metadata": {
    "ExecuteTime": {
     "end_time": "2018-03-26T03:00:53.522770Z",
     "start_time": "2018-03-26T03:00:53.516602Z"
    }
   },
   "outputs": [],
   "source": [
    "print(classification_report(y_test, bag_pred))"
   ]
  },
  {
   "cell_type": "markdown",
   "metadata": {},
   "source": [
    "- Precision: 75%"
   ]
  },
  {
   "cell_type": "markdown",
   "metadata": {},
   "source": [
    "### Model Evaluation"
   ]
  },
  {
   "cell_type": "markdown",
   "metadata": {},
   "source": [
    "Cross Validation Scores\n",
    "- Logistic Regression: 76.74%\n",
    "- Random Forest Classifier: 76.49%\n",
    "- AdaBoost Classifier: 76.91%\n",
    "- Gradient Boost Classifier: 76.91%\n",
    "- Extreme Gradient Boost Classifier: 76.67%\n",
    "- Extreme Trees Classifier: 75.89%\n",
    "- Bagging Classifier: 76.40%"
   ]
  }
 ],
 "metadata": {
  "kernelspec": {
   "display_name": "Python 3",
   "language": "python",
   "name": "python3"
  },
  "language_info": {
   "codemirror_mode": {
    "name": "ipython",
    "version": 3
   },
   "file_extension": ".py",
   "mimetype": "text/x-python",
   "name": "python",
   "nbconvert_exporter": "python",
   "pygments_lexer": "ipython3",
   "version": "3.6.4"
  },
  "latex_envs": {
   "LaTeX_envs_menu_present": true,
   "autoclose": false,
   "autocomplete": true,
   "bibliofile": "biblio.bib",
   "cite_by": "apalike",
   "current_citInitial": 1,
   "eqLabelWithNumbers": true,
   "eqNumInitial": 1,
   "hotkeys": {
    "equation": "Ctrl-E",
    "itemize": "Ctrl-I"
   },
   "labels_anchors": false,
   "latex_user_defs": false,
   "report_style_numbering": false,
   "user_envs_cfg": false
  },
  "toc": {
   "nav_menu": {},
   "number_sections": true,
   "sideBar": true,
   "skip_h1_title": false,
   "title_cell": "Table of Contents",
   "title_sidebar": "Contents",
   "toc_cell": false,
   "toc_position": {},
   "toc_section_display": true,
   "toc_window_display": false
  }
 },
 "nbformat": 4,
 "nbformat_minor": 2
}
