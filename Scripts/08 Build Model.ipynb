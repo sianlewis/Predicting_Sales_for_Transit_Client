{
 "cells": [
  {
   "cell_type": "markdown",
   "metadata": {},
   "source": [
    "## Model Build (part 1)"
   ]
  },
  {
   "cell_type": "code",
   "execution_count": null,
   "metadata": {
    "collapsed": true
   },
   "outputs": [],
   "source": [
    "import pandas as pd\n",
    "import numpy as np\n",
    "from sklearn.model_selection import train_test_split\n",
    "from sklearn.model_selection import KFold, cross_val_score, cross_val_predict\n",
    "from sklearn import metrics\n",
    "from sklearn.ensemble import RandomForestClassifier\n",
    "from sklearn.ensemble import AdaBoostClassifier\n",
    "from sklearn.ensemble import GradientBoostingClassifier\n",
    "from sklearn.preprocessing import StandardScaler\n",
    "from keras.models import Sequential\n",
    "from keras.layers import Dense\n",
    "from keras.optimizers import Adam\n",
    "from keras.layers import Dropout\n",
    "import csv\n",
    "import matplotlib.pyplot as plt\n",
    "%matplotlib inline\n",
    "%config InlineBackend.figure_format = 'retina'"
   ]
  },
  {
   "cell_type": "code",
   "execution_count": null,
   "metadata": {
    "collapsed": true
   },
   "outputs": [],
   "source": [
    "model_data = pd.read_csv('model_data.csv')"
   ]
  },
  {
   "cell_type": "code",
   "execution_count": null,
   "metadata": {},
   "outputs": [],
   "source": [
    "model_data.columns"
   ]
  },
  {
   "cell_type": "markdown",
   "metadata": {},
   "source": [
    "## Feature Engineering"
   ]
  },
  {
   "cell_type": "code",
   "execution_count": null,
   "metadata": {},
   "outputs": [],
   "source": [
    "# feature engineering\n",
    "# engineer a number out of stage\n",
    "model_data.stage.value_counts()"
   ]
  },
  {
   "cell_type": "code",
   "execution_count": null,
   "metadata": {
    "collapsed": true
   },
   "outputs": [],
   "source": [
    "# Closed Won, Deal Signed, Invoice Sent = 1; otherwise 0"
   ]
  },
  {
   "cell_type": "code",
   "execution_count": null,
   "metadata": {
    "collapsed": true
   },
   "outputs": [],
   "source": [
    "def translate_stage(stage):\n",
    "    if stage in ['Closed Won', 'Deal Signed', 'Invoice Sent']:\n",
    "        return(1)\n",
    "    else:\n",
    "        return (0)"
   ]
  },
  {
   "cell_type": "code",
   "execution_count": null,
   "metadata": {
    "collapsed": true
   },
   "outputs": [],
   "source": [
    "model_data['y'] = model_data['stage'].apply(translate_stage)"
   ]
  },
  {
   "cell_type": "code",
   "execution_count": null,
   "metadata": {
    "collapsed": true
   },
   "outputs": [],
   "source": [
    "# feature engineering\n",
    "y = model_data['y']\n",
    "X = model_data[['lat',\n",
    "                'lng',\n",
    "                'mobility_score',\n",
    "                'carshare',\n",
    "                'bikeshare',\n",
    "                'ridehailing',\n",
    "                'masstransit',\n",
    "                'closest_ts',\n",
    "                'within_one_tenth',\n",
    "                'within_one_half',\n",
    "                'within_one',\n",
    "                #'within_five'  #this was taken out because it caused scores to decrease\n",
    "                ]]"
   ]
  },
  {
   "cell_type": "markdown",
   "metadata": {},
   "source": [
    "## Split Data"
   ]
  },
  {
   "cell_type": "code",
   "execution_count": null,
   "metadata": {
    "collapsed": true
   },
   "outputs": [],
   "source": [
    "# may need to delete outliers here, or put a max on closest_ts"
   ]
  },
  {
   "cell_type": "code",
   "execution_count": null,
   "metadata": {
    "collapsed": true
   },
   "outputs": [],
   "source": [
    "X_train, X_test, y_train, y_test = train_test_split(\n",
    "    X, y, test_size=0.30, random_state=14)"
   ]
  },
  {
   "cell_type": "code",
   "execution_count": null,
   "metadata": {},
   "outputs": [],
   "source": [
    "# calculate baseline\n",
    "print(y.value_counts())\n",
    "print(1 - (456 / (1227+456)))"
   ]
  },
  {
   "cell_type": "markdown",
   "metadata": {},
   "source": [
    "## Run Models"
   ]
  },
  {
   "cell_type": "code",
   "execution_count": null,
   "metadata": {},
   "outputs": [],
   "source": [
    "# random forest  (for grid search code, see notebook 09)\n",
    "model = RandomForestClassifier(\n",
    "    n_estimators=500, max_depth=5, min_samples_split=2, min_samples_leaf=1, max_features=3)\n",
    "scores = cross_val_score(model, X_train, y_train, cv=3)\n",
    "print(scores)\n",
    "print(np.mean(scores))"
   ]
  },
  {
   "cell_type": "code",
   "execution_count": null,
   "metadata": {},
   "outputs": [],
   "source": [
    "model.fit(X_train, y_train)"
   ]
  },
  {
   "cell_type": "code",
   "execution_count": null,
   "metadata": {},
   "outputs": [],
   "source": [
    "features = pd.DataFrame(list(zip(X.columns, model.feature_importances_)), columns=[\n",
    "                        'feature', 'importance'])\n",
    "features.plot(kind='bar', title='Random Forest Feature Importance',\n",
    "              x='feature', y='importance', fontsize='large', legend=False, sort_columns=True)\n",
    "plt.xticks(rotation=90)\n",
    "plt.xlabel('Features', fontsize='large')\n",
    "plt.ylabel('Feature importance', fontsize='large')"
   ]
  },
  {
   "cell_type": "code",
   "execution_count": null,
   "metadata": {},
   "outputs": [],
   "source": [
    "# GRADIENT BOOSTING model\n",
    "model = GradientBoostingClassifier(max_features=6, max_depth=50)\n",
    "scores = cross_val_score(model, X_train, y_train, cv=3)\n",
    "print(scores)\n",
    "print(np.mean(scores))"
   ]
  },
  {
   "cell_type": "code",
   "execution_count": null,
   "metadata": {},
   "outputs": [],
   "source": [
    "model.fit(X_train, y_train)"
   ]
  },
  {
   "cell_type": "code",
   "execution_count": null,
   "metadata": {},
   "outputs": [],
   "source": [
    "features = pd.DataFrame(list(zip(X.columns, model.feature_importances_)), columns=[\n",
    "                        'feature', 'importance'])\n",
    "features.plot(kind='bar', title='Gradient Boost Feature Importance',\n",
    "              x='feature', y='importance', fontsize='large', legend=False, sort_columns=True)\n",
    "plt.xticks(rotation=90)\n",
    "plt.xlabel('Features', fontsize='large')\n",
    "plt.ylabel('Feature importance', fontsize='large')"
   ]
  },
  {
   "cell_type": "code",
   "execution_count": null,
   "metadata": {},
   "outputs": [],
   "source": [
    "# ADABoost model\n",
    "model = AdaBoostClassifier(n_estimators=100)\n",
    "scores = cross_val_score(model, X_train, y_train, cv=3)\n",
    "print(scores)\n",
    "print(np.mean(scores))"
   ]
  },
  {
   "cell_type": "code",
   "execution_count": null,
   "metadata": {},
   "outputs": [],
   "source": [
    "model.fit(X_train, y_train)"
   ]
  },
  {
   "cell_type": "code",
   "execution_count": null,
   "metadata": {
    "scrolled": false
   },
   "outputs": [],
   "source": [
    "features = pd.DataFrame(list(zip(X.columns, model.feature_importances_)), columns=[\n",
    "                        'feature', 'importance'])\n",
    "features.plot(kind='bar', title='AdaBoost Feature Importance',\n",
    "              x='feature', y='importance', fontsize='large', legend=False, sort_columns=True)\n",
    "plt.xticks(rotation=90)\n",
    "plt.xlabel('Features', fontsize='large')\n",
    "plt.ylabel('Feature importance', fontsize='large')"
   ]
  },
  {
   "cell_type": "code",
   "execution_count": null,
   "metadata": {},
   "outputs": [],
   "source": [
    "# Create keras Model\n",
    "#X_train, X_test, y_train, y_test = train_test_split(Xtr, ytr, test_size=0.30, random_state=11)\n",
    "print(X_train.shape, y_train.shape)\n",
    "print(X_test.shape, y_test.shape)\n",
    "ss = StandardScaler()\n",
    "# the scaler is fit only to the training data\n",
    "X_train = ss.fit_transform(X_train)\n",
    "X_test = ss.transform(X_test)\n",
    "\n",
    "model = Sequential()\n",
    "\n",
    "input_units = X_train.shape[1]  # number of features in training set\n",
    "hidden_units = input_units  # hidden layer has the same number of nodes as input\n",
    "\n",
    "# first input layer\n",
    "model.add(Dense(hidden_units, input_dim=input_units, activation='relu'\n",
    "                # uncomment this to add L2 regularization\n",
    "                #,kernel_regularizer=regularizers.l2(0.0001)\n",
    "                ))\n",
    "\n",
    "\n",
    "# hidden layer (try with and without)\n",
    "node_reduction = 0\n",
    "model.add(Dense(hidden_units - node_reduction, input_dim=input_units, activation='tanh'\n",
    "                #,kernel_regularizer=regularizers.l2(0.0001)\n",
    "                ))\n",
    "# model.add(Dropout(0.8))\n",
    "\n",
    "# final layer\n",
    "model.add(Dense(1, activation='sigmoid'))\n",
    "\n",
    "model.compile(loss='binary_crossentropy', optimizer='adam'              # added later\n",
    "              , metrics=['binary_accuracy']\n",
    "              )"
   ]
  },
  {
   "cell_type": "code",
   "execution_count": null,
   "metadata": {
    "scrolled": true
   },
   "outputs": [],
   "source": [
    "# Run Keras model\n",
    "history = model.fit(X_train, y_train, validation_data=(X_test, y_test),\n",
    "                    epochs=60, batch_size=None, verbose=1)"
   ]
  },
  {
   "cell_type": "markdown",
   "metadata": {},
   "source": [
    "### Model Score Summary:\n",
    "1. Random Forest:   crossval score 76.5%\n",
    "2. Gradient Boost:  crossval score 71.6%\n",
    "3. ADABoost:        crossval score 74.2%\n",
    "4. Keras:           validation score 77.2%\n",
    "\n",
    "More model buiding and grid searching in notebook 9\n",
    "\n",
    "\n"
   ]
  }
 ],
 "metadata": {
  "kernelspec": {
   "display_name": "Python 3",
   "language": "python",
   "name": "python3"
  },
  "language_info": {
   "codemirror_mode": {
    "name": "ipython",
    "version": 3
   },
   "file_extension": ".py",
   "mimetype": "text/x-python",
   "name": "python",
   "nbconvert_exporter": "python",
   "pygments_lexer": "ipython3",
   "version": "3.6.4"
  },
  "toc": {
   "nav_menu": {},
   "number_sections": true,
   "sideBar": true,
   "skip_h1_title": false,
   "title_cell": "Table of Contents",
   "title_sidebar": "Contents",
   "toc_cell": false,
   "toc_position": {},
   "toc_section_display": true,
   "toc_window_display": false
  }
 },
 "nbformat": 4,
 "nbformat_minor": 2
}
