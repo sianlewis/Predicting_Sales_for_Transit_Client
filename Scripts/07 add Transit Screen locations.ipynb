{
 "cells": [
  {
   "cell_type": "code",
   "execution_count": null,
   "metadata": {},
   "outputs": [],
   "source": [
    "!pip install haversine"
   ]
  },
  {
   "cell_type": "code",
   "execution_count": null,
   "metadata": {
    "collapsed": true
   },
   "outputs": [],
   "source": [
    "import keys\n",
    "import pandas as pd\n",
    "import requests\n",
    "from pprint import pprint\n",
    "import json\n",
    "import numpy as np"
   ]
  },
  {
   "cell_type": "code",
   "execution_count": null,
   "metadata": {},
   "outputs": [],
   "source": [
    "screens = pd.read_csv('screen geocoded.csv')\n",
    "screens.drop('Unnamed: 0', axis=1, inplace=True)\n",
    "screens.shape"
   ]
  },
  {
   "cell_type": "code",
   "execution_count": null,
   "metadata": {},
   "outputs": [],
   "source": [
    "screens.head()"
   ]
  },
  {
   "cell_type": "code",
   "execution_count": null,
   "metadata": {},
   "outputs": [],
   "source": [
    "# look at number that are missing lats and longs\n",
    "print(screens[screens.lat.isnull() == True].shape)\n",
    "print(screens[screens.lat.isnull() == False].shape)\n",
    "print()"
   ]
  },
  {
   "cell_type": "code",
   "execution_count": null,
   "metadata": {
    "collapsed": true
   },
   "outputs": [],
   "source": [
    "########################################"
   ]
  },
  {
   "cell_type": "code",
   "execution_count": null,
   "metadata": {
    "collapsed": true
   },
   "outputs": [],
   "source": [
    "# add close date from model-data file\n",
    "model_data = pd.read_csv('model_data.csv')"
   ]
  },
  {
   "cell_type": "code",
   "execution_count": null,
   "metadata": {
    "collapsed": true
   },
   "outputs": [],
   "source": []
  },
  {
   "cell_type": "code",
   "execution_count": null,
   "metadata": {},
   "outputs": [],
   "source": [
    "model_data.head()"
   ]
  },
  {
   "cell_type": "code",
   "execution_count": null,
   "metadata": {
    "collapsed": true
   },
   "outputs": [],
   "source": [
    "close_dates = model_data[['name', 'close_date'\n",
    "                          #,'address'\n",
    "                          ]]"
   ]
  },
  {
   "cell_type": "code",
   "execution_count": null,
   "metadata": {},
   "outputs": [],
   "source": [
    "close_dates.shape"
   ]
  },
  {
   "cell_type": "code",
   "execution_count": null,
   "metadata": {
    "collapsed": true
   },
   "outputs": [],
   "source": [
    "screens = screens.merge(close_dates, how='left', right_on='name', left_on='Opportunity: Opportunity Name'\n",
    "                        #,indicator=True\n",
    "                        )"
   ]
  },
  {
   "cell_type": "code",
   "execution_count": null,
   "metadata": {},
   "outputs": [],
   "source": [
    "# why did the number of records go from 628 to 649? are there dups?\n",
    "print(screens.shape)\n",
    "print(screens[screens.close_date.isnull() == False].shape)\n",
    "print(screens[screens.close_date.isnull() == True].shape)"
   ]
  },
  {
   "cell_type": "code",
   "execution_count": null,
   "metadata": {
    "collapsed": true
   },
   "outputs": [],
   "source": [
    "screens.drop(['name'], axis=1, inplace=True)"
   ]
  },
  {
   "cell_type": "code",
   "execution_count": null,
   "metadata": {},
   "outputs": [],
   "source": [
    "screens[screens.close_date.isnull() == True].head(100)"
   ]
  },
  {
   "cell_type": "markdown",
   "metadata": {},
   "source": [
    "unmatching screen addresses:\n",
    "WeDriveU-AthenaHealth - Arsenal Campus- Revisit\n",
    "\n",
    "Post Alexander - ATL\n",
    "\n",
    "Matrix Residential - ATL - Local on 14th\n",
    "\n",
    "Seven Oaks - ATL - 3003 Perimeter Summit\n",
    "\n"
   ]
  },
  {
   "cell_type": "code",
   "execution_count": null,
   "metadata": {},
   "outputs": [],
   "source": [
    "model_data[model_data.lat == 33.772828]"
   ]
  },
  {
   "cell_type": "markdown",
   "metadata": {},
   "source": [
    "It looks like this screen didn't exist in close dates"
   ]
  },
  {
   "cell_type": "code",
   "execution_count": null,
   "metadata": {},
   "outputs": [],
   "source": [
    "model_data[model_data.stage == 'Closed Won'].shape"
   ]
  },
  {
   "cell_type": "code",
   "execution_count": null,
   "metadata": {
    "collapsed": true
   },
   "outputs": [],
   "source": [
    "screens.drop_duplicates(['lat'], keep='first', inplace=True)"
   ]
  },
  {
   "cell_type": "code",
   "execution_count": null,
   "metadata": {
    "collapsed": true
   },
   "outputs": [],
   "source": [
    "screens.to_csv('screens_and_close_dates.csv', index=False)"
   ]
  },
  {
   "cell_type": "code",
   "execution_count": null,
   "metadata": {
    "collapsed": true
   },
   "outputs": [],
   "source": [
    "################################################"
   ]
  },
  {
   "cell_type": "code",
   "execution_count": null,
   "metadata": {
    "collapsed": true
   },
   "outputs": [],
   "source": [
    "from haversine import haversine"
   ]
  },
  {
   "cell_type": "code",
   "execution_count": null,
   "metadata": {
    "collapsed": true
   },
   "outputs": [],
   "source": [
    "def find_closest(point, list_of_points, debug=False):\n",
    "    distances = []\n",
    "    for i in list_of_points:\n",
    "        # if it is a different point, calculate the distance\n",
    "        if point != i:\n",
    "            dist = haversine(point, i)\n",
    "            if debug:\n",
    "                print(point, i, dist)\n",
    "            distances.append(dist)\n",
    "    # return the smallest distance\n",
    "    # do we want to set a max here?\n",
    "    return (distances[np.argmin(distances)])"
   ]
  },
  {
   "cell_type": "code",
   "execution_count": null,
   "metadata": {},
   "outputs": [],
   "source": [
    "point = (38.876059, -77.020240)\n",
    "list_of_points = [(40.754448, -74.028046), (38.999289, -\n",
    "                                            77.028885), (38.876059, -77.020240)]\n",
    "find_closest(point, list_of_points, True)"
   ]
  },
  {
   "cell_type": "code",
   "execution_count": null,
   "metadata": {},
   "outputs": [],
   "source": [
    "point = (38.876059, -77.020240)\n",
    "list_of_points = [(40.754448, -74.028046), (38.999289, -77.028885)]\n",
    "find_closest(point, list_of_points)"
   ]
  },
  {
   "cell_type": "code",
   "execution_count": null,
   "metadata": {
    "collapsed": true
   },
   "outputs": [],
   "source": [
    "def find_within_distance(point, list_of_points, radius=.5):\n",
    "    count = 0\n",
    "    for i in list_of_points:\n",
    "        dist = haversine(point, i)\n",
    "        # if point == i:\n",
    "        #    print('found self', i)\n",
    "        if point != i:\n",
    "            if dist <= radius:\n",
    "                count += 1\n",
    "    return (count)"
   ]
  },
  {
   "cell_type": "code",
   "execution_count": null,
   "metadata": {},
   "outputs": [],
   "source": [
    "point = (38.876059, -77.020240)\n",
    "list_of_points = [(40.754448, -74.028046), (38.999289, -77.028885)]\n",
    "find_within_distance(point, list_of_points, 14)"
   ]
  },
  {
   "cell_type": "code",
   "execution_count": null,
   "metadata": {},
   "outputs": [],
   "source": [
    "model_data.shape"
   ]
  },
  {
   "cell_type": "code",
   "execution_count": null,
   "metadata": {},
   "outputs": [],
   "source": [
    "print(screens.shape)\n",
    "print(screens[screens.close_date.isnull() == False].shape)\n",
    "print(screens[screens.close_date.isnull() == True].shape)"
   ]
  },
  {
   "cell_type": "code",
   "execution_count": null,
   "metadata": {
    "collapsed": true
   },
   "outputs": [],
   "source": [
    "# build a list of all points we want to checks\n",
    "scr = screens[screens.lng.isnull() == False][['lat', 'lng']]"
   ]
  },
  {
   "cell_type": "code",
   "execution_count": null,
   "metadata": {
    "collapsed": true
   },
   "outputs": [],
   "source": [
    "screen_list = list(zip(scr['lat'], scr['lng']))"
   ]
  },
  {
   "cell_type": "code",
   "execution_count": null,
   "metadata": {},
   "outputs": [],
   "source": [
    "find_closest((38.876059, -77.020240), screen_list)"
   ]
  },
  {
   "cell_type": "code",
   "execution_count": null,
   "metadata": {},
   "outputs": [],
   "source": [
    "screens[screens['Screen Addresss (City)'] == 'Silver Spring']"
   ]
  },
  {
   "cell_type": "code",
   "execution_count": null,
   "metadata": {},
   "outputs": [],
   "source": [
    "find_within_distance(\n",
    "    (33.782524200000005, -84.380598800000001), screen_list, radius=1000000)"
   ]
  },
  {
   "cell_type": "code",
   "execution_count": null,
   "metadata": {
    "collapsed": true
   },
   "outputs": [],
   "source": [
    "model_data['lat_lng'] = list(zip(model_data['lat'], model_data['lng']))"
   ]
  },
  {
   "cell_type": "code",
   "execution_count": null,
   "metadata": {
    "collapsed": true
   },
   "outputs": [],
   "source": [
    "model_data['closest_ts'] = np.nan"
   ]
  },
  {
   "cell_type": "code",
   "execution_count": null,
   "metadata": {
    "collapsed": true
   },
   "outputs": [],
   "source": [
    "for i, row in model_data.iterrows():\n",
    "    closest_ts = find_closest(row.lat_lng, screen_list)\n",
    "    model_data.loc[model_data['id'] == row.id, 'closest_ts'] = closest_ts"
   ]
  },
  {
   "cell_type": "code",
   "execution_count": null,
   "metadata": {},
   "outputs": [],
   "source": [
    "model_data.sort_values('closest_ts', ascending=False)"
   ]
  },
  {
   "cell_type": "code",
   "execution_count": null,
   "metadata": {
    "collapsed": true
   },
   "outputs": [],
   "source": [
    "model_data['within_one_tenth'] = np.nan\n",
    "model_data['within_one_half'] = np.nan\n",
    "model_data['within_one'] = np.nan\n",
    "model_data['within_five'] = np.nan"
   ]
  },
  {
   "cell_type": "code",
   "execution_count": null,
   "metadata": {
    "collapsed": true
   },
   "outputs": [],
   "source": [
    "for i, row in model_data.iterrows():\n",
    "    within_one_tenth = find_within_distance(row.lat_lng, screen_list, .1)\n",
    "    within_one_half = find_within_distance(row.lat_lng, screen_list, .5)\n",
    "    within_one = find_within_distance(row.lat_lng, screen_list, 1)\n",
    "    within_five = find_within_distance(row.lat_lng, screen_list, 5)\n",
    "    model_data.loc[model_data['id'] == row.id,\n",
    "                   'within_one_tenth'] = within_one_tenth\n",
    "    model_data.loc[model_data['id'] == row.id,\n",
    "                   'within_one_half'] = within_one_half\n",
    "    model_data.loc[model_data['id'] == row.id, 'within_one'] = within_one\n",
    "    model_data.loc[model_data['id'] == row.id, 'within_five'] = within_five"
   ]
  },
  {
   "cell_type": "code",
   "execution_count": null,
   "metadata": {},
   "outputs": [],
   "source": [
    "model_data.head(100)"
   ]
  },
  {
   "cell_type": "code",
   "execution_count": null,
   "metadata": {
    "collapsed": true
   },
   "outputs": [],
   "source": [
    "df.to_csv('model_data.csv', index=False)"
   ]
  }
 ],
 "metadata": {
  "kernelspec": {
   "display_name": "Python 3",
   "language": "python",
   "name": "python3"
  },
  "language_info": {
   "codemirror_mode": {
    "name": "ipython",
    "version": 3
   },
   "file_extension": ".py",
   "mimetype": "text/x-python",
   "name": "python",
   "nbconvert_exporter": "python",
   "pygments_lexer": "ipython3",
   "version": "3.6.4"
  },
  "toc": {
   "nav_menu": {},
   "number_sections": true,
   "sideBar": true,
   "skip_h1_title": false,
   "title_cell": "Table of Contents",
   "title_sidebar": "Contents",
   "toc_cell": false,
   "toc_position": {},
   "toc_section_display": true,
   "toc_window_display": false
  }
 },
 "nbformat": 4,
 "nbformat_minor": 2
}
