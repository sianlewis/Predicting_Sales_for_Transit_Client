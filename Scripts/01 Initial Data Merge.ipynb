{
 "cells": [
  {
   "cell_type": "markdown",
   "metadata": {},
   "source": [
    "## Load Data on Opportunites and Quotes, and combine into one Dataframe"
   ]
  },
  {
   "cell_type": "code",
   "execution_count": null,
   "metadata": {},
   "outputs": [],
   "source": [
    "import keys\n",
    "import pandas as pd\n",
    "import numpy as np\n",
    "# load files\n",
    "opportunities = pd.read_csv('opportunities.csv')\n",
    "quotes = pd.read_csv('quotes.csv')\n",
    "# concatenate quote addresses\n",
    "quotes['Address'] = quotes['Bill To Street']+' '+quotes['Bill To City']+' ' + \\\n",
    "    quotes['Bill To Country']+' '+quotes['Bill To State/Province'] + \\\n",
    "    ' '+quotes['Bill To Zip/Postal Code']\n",
    "# since these opportunities addresses are all incomplete, leave as null\n",
    "opportunities['Address'] = np.nan\n",
    "# give the dataframes the same columns\n",
    "new_cols = ['id', 'name', 'close_date', 'stage', 'address']\n",
    "opp = opportunities[['Opportunity ID',\n",
    "                     'Opportunity Name', 'Close Date', 'Stage', 'Address']]\n",
    "opp.columns = new_cols\n",
    "quo = quotes[['Opportunity ID', 'Opportunity Name',\n",
    "              'Close Date', 'Stage', 'Address']]\n",
    "quo.columns = new_cols\n",
    "# from opp, remove records that are in quo\n",
    "\n",
    "\n",
    "def in_quo(id):\n",
    "    if id in quo.id.values:\n",
    "        return True\n",
    "    else:\n",
    "        return False\n",
    "\n",
    "\n",
    "opp2 = opp[opp.id.apply(in_quo) == False]\n",
    "# combine the two to create the final df\n",
    "df = quo.append(opp2, ignore_index=True)\n",
    "# show counts  (should be 2828, 1112, 1716)\n",
    "print('total:', df.shape[0])\n",
    "print('with full address:', df[df['address'].isnull() == False].shape[0])\n",
    "print('missing/incomplete addresses:',\n",
    "      df[df['address'].isnull() == True].shape[0])"
   ]
  },
  {
   "cell_type": "code",
   "execution_count": null,
   "metadata": {
    "collapsed": true
   },
   "outputs": [],
   "source": [
    "#drop duplicates (these are either complete duplicates, or have slghtly different address format)\n",
    "df.drop_duplicates(subset=['id'], keep='last',inplace=True)"
   ]
  },
  {
   "cell_type": "code",
   "execution_count": null,
   "metadata": {
    "scrolled": true
   },
   "outputs": [],
   "source": [
    "print ('total:', df.shape[0])\n",
    "print ('with full address:', df[df['address'].isnull()==False].shape[0])\n",
    "print ('missing/incomplete addresses:', df[df['address'].isnull()==True].shape[0])"
   ]
  },
  {
   "cell_type": "code",
   "execution_count": null,
   "metadata": {
    "collapsed": true
   },
   "outputs": [],
   "source": [
    "#add lattitude and longitude cols\n",
    "df['lat']=''\n",
    "df['lng']=''"
   ]
  },
  {
   "cell_type": "code",
   "execution_count": null,
   "metadata": {
    "collapsed": true
   },
   "outputs": [],
   "source": [
    "df.to_csv('merged.csv',index_label=False)"
   ]
  }
 ],
 "metadata": {
  "kernelspec": {
   "display_name": "Python 3",
   "language": "python",
   "name": "python3"
  },
  "language_info": {
   "codemirror_mode": {
    "name": "ipython",
    "version": 3
   },
   "file_extension": ".py",
   "mimetype": "text/x-python",
   "name": "python",
   "nbconvert_exporter": "python",
   "pygments_lexer": "ipython3",
   "version": "3.6.4"
  },
  "toc": {
   "nav_menu": {},
   "number_sections": true,
   "sideBar": true,
   "skip_h1_title": false,
   "title_cell": "Table of Contents",
   "title_sidebar": "Contents",
   "toc_cell": false,
   "toc_position": {},
   "toc_section_display": true,
   "toc_window_display": false
  }
 },
 "nbformat": 4,
 "nbformat_minor": 2
}
