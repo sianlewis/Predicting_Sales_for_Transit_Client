{
 "cells": [
  {
   "cell_type": "markdown",
   "metadata": {},
   "source": [
    "# Geocode New Addresses"
   ]
  },
  {
   "cell_type": "code",
   "execution_count": null,
   "metadata": {
    "collapsed": true
   },
   "outputs": [],
   "source": [
    "import keys\n",
    "import pandas as pd\n",
    "import requests\n",
    "from pprint import pprint\n",
    "import json\n",
    "import numpy as np"
   ]
  },
  {
   "cell_type": "code",
   "execution_count": null,
   "metadata": {
    "collapsed": true
   },
   "outputs": [],
   "source": [
    "# Load merged, opportunities scraped\n",
    "merged = pd.read_csv('merged.csv')\n",
    "opportunities = pd.read_csv('opportunities_scraped.csv')"
   ]
  },
  {
   "cell_type": "code",
   "execution_count": null,
   "metadata": {
    "collapsed": true
   },
   "outputs": [],
   "source": [
    "merged.head()"
   ]
  },
  {
   "cell_type": "code",
   "execution_count": null,
   "metadata": {
    "collapsed": true
   },
   "outputs": [],
   "source": [
    "print(merged.shape)\n",
    "print(merged[merged['address'].isnull() == False].shape)\n",
    "print(merged[merged['address'].isnull() == True].shape)"
   ]
  },
  {
   "cell_type": "code",
   "execution_count": null,
   "metadata": {
    "collapsed": true
   },
   "outputs": [],
   "source": [
    "print(opportunities.shape)\n",
    "print(opportunities[opportunities['scraped_address'] == 'not found'].shape)\n",
    "print(opportunities[opportunities['scraped_address'] != 'not found'].shape)"
   ]
  },
  {
   "cell_type": "code",
   "execution_count": null,
   "metadata": {
    "collapsed": true
   },
   "outputs": [],
   "source": [
    "opportunities.head()"
   ]
  },
  {
   "cell_type": "code",
   "execution_count": null,
   "metadata": {
    "collapsed": true
   },
   "outputs": [],
   "source": [
    "# Copy over scraped addresses\n",
    "op = opportunities[opportunities['scraped_address'] != 'not found']\n",
    "print(op.shape)"
   ]
  },
  {
   "cell_type": "code",
   "execution_count": null,
   "metadata": {
    "collapsed": true
   },
   "outputs": [],
   "source": [
    "for i, row in op.iterrows():\n",
    "    print(i, row['Opportunity ID'], row.scraped_address)\n",
    "    print(merged.loc[merged['id'] == row['Opportunity ID']][['id', 'address']])"
   ]
  },
  {
   "cell_type": "code",
   "execution_count": null,
   "metadata": {
    "collapsed": true
   },
   "outputs": [],
   "source": [
    "for i, row in op.iterrows():\n",
    "    merged.loc[merged['id'] == row['Opportunity ID'],\n",
    "               'address'] = row.scraped_address"
   ]
  },
  {
   "cell_type": "code",
   "execution_count": null,
   "metadata": {
    "collapsed": true
   },
   "outputs": [],
   "source": [
    "# merged[merged.id=='0061a00000FqbhV'].address\n",
    "print(merged.shape)\n",
    "print(merged[merged['address'].isnull() == False].shape)\n",
    "print(merged[merged['address'].isnull() == True].shape)"
   ]
  },
  {
   "cell_type": "code",
   "execution_count": null,
   "metadata": {
    "collapsed": true
   },
   "outputs": [],
   "source": [
    "# get remaining lats and longs\n",
    "print(merged[merged['lat'].isnull() == False].shape)\n",
    "print(merged[merged['lat'].isnull() == True].shape)"
   ]
  },
  {
   "cell_type": "code",
   "execution_count": null,
   "metadata": {
    "collapsed": true,
    "scrolled": false
   },
   "outputs": [],
   "source": [
    "key = keys.google\n",
    "df = merged\n",
    "# from notebook 02\n",
    "counter = 0\n",
    "# loop through all records with an address, but no lat/long\n",
    "for i, row in df[(df['lat'].isnull() == True) &\n",
    "                 (df['address'].isnull() == False)\n",
    "                 #& (df['id']=='0061a00000GcQdL') #for test\n",
    "                 ].iterrows():\n",
    "    # get the lat and long from google maps api\n",
    "    address = row.address.replace(' ', '+')\n",
    "    url = 'https://maps.googleapis.com/maps/api/geocode/json?address='+address+'=&key='+key\n",
    "    response = requests.get(url)\n",
    "    try:\n",
    "        data = json.loads(response.text)\n",
    "        # print(data)\n",
    "        lat = data['results'][0]['geometry']['location']['lat']\n",
    "        lng = data['results'][0]['geometry']['location']['lng']\n",
    "        # add it to the dataframe\n",
    "        df.loc[df['id'] == row.id, 'lat'] = lat\n",
    "        df.loc[df['id'] == row.id, 'lng'] = lng\n",
    "        # print(address,lat,lng)\n",
    "    except:\n",
    "        print('request failure for row', i, data, row.id, row.address)\n",
    "    counter += 1\n",
    "    if counter % 30 == 0:\n",
    "        print(counter, address, lat, lng)"
   ]
  },
  {
   "cell_type": "code",
   "execution_count": null,
   "metadata": {
    "collapsed": true
   },
   "outputs": [],
   "source": [
    "print(merged[merged['lat'].isnull() == False].shape)\n",
    "print(merged[merged['lat'].isnull() == True].shape)"
   ]
  },
  {
   "cell_type": "code",
   "execution_count": null,
   "metadata": {
    "collapsed": true
   },
   "outputs": [],
   "source": [
    "# Save to csv\n",
    "merged.to_csv('merged_scraped.csv', index_label=False)"
   ]
  },
  {
   "cell_type": "code",
   "execution_count": null,
   "metadata": {
    "collapsed": true
   },
   "outputs": [],
   "source": [
    "# Delete records missing lat and long, save again"
   ]
  },
  {
   "cell_type": "code",
   "execution_count": null,
   "metadata": {
    "collapsed": true
   },
   "outputs": [],
   "source": [
    "merged_cleaned = merged[merged['lat'].isnull() == False]\n",
    "merged_cleaned.to_csv('merged_scraped_cleaned.csv', index_label=False)"
   ]
  }
 ],
 "metadata": {
  "kernelspec": {
   "display_name": "Python 3",
   "language": "python",
   "name": "python3"
  },
  "language_info": {
   "codemirror_mode": {
    "name": "ipython",
    "version": 3
   },
   "file_extension": ".py",
   "mimetype": "text/x-python",
   "name": "python",
   "nbconvert_exporter": "python",
   "pygments_lexer": "ipython3",
   "version": "3.6.4"
  },
  "toc": {
   "nav_menu": {},
   "number_sections": true,
   "sideBar": true,
   "skip_h1_title": false,
   "title_cell": "Table of Contents",
   "title_sidebar": "Contents",
   "toc_cell": false,
   "toc_position": {},
   "toc_section_display": true,
   "toc_window_display": false
  }
 },
 "nbformat": 4,
 "nbformat_minor": 2
}
