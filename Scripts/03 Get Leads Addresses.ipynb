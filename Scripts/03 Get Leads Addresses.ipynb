{
 "cells": [
  {
   "cell_type": "code",
   "execution_count": null,
   "metadata": {
    "collapsed": true
   },
   "outputs": [],
   "source": [
    "import keys\n",
    "import numpy as np\n",
    "import pandas as pd\n",
    "import json\n",
    "import urllib\n",
    "import requests\n",
    "import re\n",
    "import matplotlib.pyplot as plt\n",
    "import requests\n",
    "from pandas.io.json import json_normalize\n",
    "from bs4 import BeautifulSoup\n",
    "import requests\n",
    "from pprint import pprint\n",
    "import json\n",
    "%matplotlib inline"
   ]
  },
  {
   "cell_type": "code",
   "execution_count": null,
   "metadata": {
    "collapsed": true
   },
   "outputs": [],
   "source": [
    "#df2 = pd.read_csv('leads.csv')"
   ]
  },
  {
   "cell_type": "code",
   "execution_count": null,
   "metadata": {
    "collapsed": true
   },
   "outputs": [],
   "source": [
    "lead['lat'] = np.nan\n",
    "lead['lng'] = np.nan"
   ]
  },
  {
   "cell_type": "code",
   "execution_count": null,
   "metadata": {
    "collapsed": true
   },
   "outputs": [],
   "source": [
    "df2['address'] = df2['Street'] + ' ' + df2['City'] + ' ' + \\\n",
    "    df2['State/Province'] + ' ' + df2['Zip/Postal Code']  # +' '+ df2['Country']"
   ]
  },
  {
   "cell_type": "code",
   "execution_count": null,
   "metadata": {},
   "outputs": [],
   "source": [
    "df2[(df2['lat'].isnull() == True) &\n",
    "    (df2['address'].isnull() == False) &\n",
    "    (df2['Zip/Postal Code'].isnull() == False)\n",
    "    ].head()"
   ]
  },
  {
   "cell_type": "code",
   "execution_count": null,
   "metadata": {},
   "outputs": [],
   "source": [
    "#key = 'xxx'\n",
    "key = keys.google\n",
    "counter = 0\n",
    "for i, row in df2[(df2['lat'].isnull() == True) &\n",
    "                  (df2['address'].isnull() == False) &\n",
    "                  (df2['Zip/Postal Code'].isnull() == False)\n",
    "                  ].iterrows():\n",
    "    address = row.address.replace(' ', '+')\n",
    "    url = 'https://maps.googleapis.com/maps/api/geocode/json?address='+address+'=&key='+key\n",
    "    # print(url)\n",
    "    # print(row.address)\n",
    "    response = requests.get(url)\n",
    "    try:\n",
    "        data = json.loads(response.text)\n",
    "        lat = data['results'][0]['geometry']['location']['lat']\n",
    "        lng = data['results'][0]['geometry']['location']['lng']\n",
    "        df2.loc[df2['Lead ID'] == row['Lead ID'], 'lat'] = lat\n",
    "        df2.loc[df2['Lead ID'] == row['Lead ID'], 'lng'] = lng\n",
    "    except:\n",
    "        #print ('request failure for row', i, row['Unnamed: 0'], data, url)\n",
    "        pass\n",
    "    counter += 1\n",
    "    if counter % 500 == 0:\n",
    "        print(counter, address, lat, lng)\n",
    "    if counter % 500 == 0:\n",
    "        df2.to_csv('lead geocoded.csv', index=False)\n",
    "        # break"
   ]
  },
  {
   "cell_type": "code",
   "execution_count": null,
   "metadata": {
    "collapsed": true
   },
   "outputs": [],
   "source": [
    "df2.to_csv('lead geocoded.csv', index=False)"
   ]
  },
  {
   "cell_type": "code",
   "execution_count": null,
   "metadata": {},
   "outputs": [],
   "source": [
    "print(df2[df2.lat.isnull() == True].shape)\n",
    "print(df2[df2.lat.isnull() == False].shape)"
   ]
  },
  {
   "cell_type": "code",
   "execution_count": null,
   "metadata": {
    "collapsed": true
   },
   "outputs": [],
   "source": [
    "lead.to_csv('lead geocoded.csv')"
   ]
  },
  {
   "cell_type": "code",
   "execution_count": null,
   "metadata": {},
   "outputs": [],
   "source": [
    "lead[(lead['lat'].isnull()) & (lead['lng'].isnull())].shape"
   ]
  },
  {
   "cell_type": "code",
   "execution_count": null,
   "metadata": {
    "collapsed": true
   },
   "outputs": [],
   "source": []
  },
  {
   "cell_type": "code",
   "execution_count": null,
   "metadata": {},
   "outputs": [],
   "source": [
    "lead[lead['lat'].isnull() == False].shape"
   ]
  },
  {
   "cell_type": "code",
   "execution_count": null,
   "metadata": {
    "collapsed": true
   },
   "outputs": [],
   "source": [
    "df2 = pd.read_csv('lead geocoded.csv')"
   ]
  },
  {
   "cell_type": "code",
   "execution_count": null,
   "metadata": {},
   "outputs": [],
   "source": [
    "df2.head(100)"
   ]
  },
  {
   "cell_type": "code",
   "execution_count": null,
   "metadata": {},
   "outputs": [],
   "source": [
    "print(df2[df2.lat.isnull() == True].shape)\n",
    "print(df2[df2.lat.isnull() == False].shape)"
   ]
  },
  {
   "cell_type": "markdown",
   "metadata": {},
   "source": [
    "Many of the address without lats and lngs had faulty coiuntry information; these were corrected manually"
   ]
  },
  {
   "cell_type": "code",
   "execution_count": null,
   "metadata": {
    "collapsed": true
   },
   "outputs": [],
   "source": [
    "df2 = pd.read_csv('./sianedit_leads_with_distances.csv', encoding='ISO-8859-1')"
   ]
  },
  {
   "cell_type": "code",
   "execution_count": null,
   "metadata": {},
   "outputs": [],
   "source": [
    "df2.head()"
   ]
  },
  {
   "cell_type": "code",
   "execution_count": null,
   "metadata": {
    "collapsed": true
   },
   "outputs": [],
   "source": [
    "df2.drop(['Unnamed: 0', 'City_1', 'lat_lng', 'closest_ts', 'within_one_tenth',\n",
    "          'within_one_half', 'within_one', 'within_five'], axis=1, inplace=True)"
   ]
  },
  {
   "cell_type": "code",
   "execution_count": null,
   "metadata": {},
   "outputs": [],
   "source": [
    "print(df2[df2.lat.isnull() == True].shape)\n",
    "print(df2[df2.lat.isnull() == False].shape)"
   ]
  },
  {
   "cell_type": "code",
   "execution_count": null,
   "metadata": {},
   "outputs": [],
   "source": [
    "print(df2[df2.address.isnull() == True].shape)\n",
    "print(df2[df2.address.isnull() == False].shape)"
   ]
  },
  {
   "cell_type": "code",
   "execution_count": null,
   "metadata": {
    "collapsed": true
   },
   "outputs": [],
   "source": [
    "# rebuild address column\n",
    "df2['address'] = df2['Street'] + ' ' + df2['City'] + ' ' + \\\n",
    "    df2['State/Province'] + ' ' + df2['Zip/Postal Code']+' ' + df2['Country']"
   ]
  },
  {
   "cell_type": "code",
   "execution_count": null,
   "metadata": {},
   "outputs": [],
   "source": [
    "print(df2[df2.address.isnull() == True].shape)\n",
    "print(df2[df2.address.isnull() == False].shape)"
   ]
  },
  {
   "cell_type": "code",
   "execution_count": null,
   "metadata": {
    "collapsed": true
   },
   "outputs": [],
   "source": [
    "# df2[df2.address.isnull()==True].head(100)"
   ]
  },
  {
   "cell_type": "code",
   "execution_count": null,
   "metadata": {},
   "outputs": [],
   "source": [
    "print(df2[df2.address.isnull() == True].shape)\n",
    "print(df2[df2.address.isnull() == False].shape)"
   ]
  },
  {
   "cell_type": "code",
   "execution_count": null,
   "metadata": {},
   "outputs": [],
   "source": [
    "print(df2[df2.lat.isnull() == True].shape)\n",
    "print(df2[df2.lat.isnull() == False].shape)"
   ]
  },
  {
   "cell_type": "code",
   "execution_count": null,
   "metadata": {
    "collapsed": true
   },
   "outputs": [],
   "source": [
    "final_leads = df2[df2.lat.isnull() == False]"
   ]
  },
  {
   "cell_type": "code",
   "execution_count": null,
   "metadata": {
    "collapsed": true
   },
   "outputs": [],
   "source": [
    "final_leads.to_csv('final_leads.csv', index_label=False)"
   ]
  },
  {
   "cell_type": "code",
   "execution_count": null,
   "metadata": {
    "collapsed": true
   },
   "outputs": [],
   "source": [
    "# get transitscreen info"
   ]
  },
  {
   "cell_type": "code",
   "execution_count": null,
   "metadata": {
    "collapsed": true
   },
   "outputs": [],
   "source": [
    "df = pd.read_csv('final_leads.csv')"
   ]
  },
  {
   "cell_type": "code",
   "execution_count": null,
   "metadata": {
    "collapsed": true
   },
   "outputs": [],
   "source": [
    "df['ts_response'] = np.nan\n",
    "df['mobility_score'] = np.nan\n",
    "df['carshare'] = np.nan\n",
    "df['bikeshare'] = np.nan\n",
    "df['ridehailing'] = np.nan\n",
    "df['masstransit'] = np.nan"
   ]
  },
  {
   "cell_type": "code",
   "execution_count": null,
   "metadata": {},
   "outputs": [],
   "source": [
    "df.head()"
   ]
  },
  {
   "cell_type": "code",
   "execution_count": null,
   "metadata": {
    "scrolled": false
   },
   "outputs": [],
   "source": [
    "base_url = 'http://mobilityscore-dev.transitscreen.io/api/v1/locations.json?&debug=true'\n",
    "key = keys.ts\n",
    "\n",
    "for i, row in df[(df['ts_response'].isnull() == True)\n",
    "                 #& (df['id']=='0061a00000GcQdL') #for test\n",
    "                 ].iterrows():\n",
    "    #print(row.id, row.name, row.lat, row.lng)\n",
    "    try:\n",
    "        url = base_url + '&key='+key+'&geojson=true&coordinates=' + \\\n",
    "            str(row.lat)+','+str(row.lng)\n",
    "        #(print(url))\n",
    "        response = requests.get(url)  # wait up to 10 seconds\n",
    "        data = json.loads(response.text)\n",
    "        full_response = data['data']\n",
    "        mobility_score = full_response['mobilityScore']['score']\n",
    "        #print (mobility_score)\n",
    "        raw_scores = full_response['mobilityScore']['rawScoreBreakdown']\n",
    "        #print (raw_scores)\n",
    "        carshare = raw_scores['carshare']\n",
    "        bikeshare = raw_scores['bikeshare']\n",
    "        ridehailing = raw_scores['ridehailing']\n",
    "        masstransit = raw_scores['masstransit']\n",
    "        #print(carshare, bikeshare, ridehailing, masstransit)\n",
    "        df.loc[df['id'] == row.id, 'ts_response'] = data\n",
    "        df.loc[df['id'] == row.id, 'mobility_score'] = mobility_score\n",
    "        df.loc[df['id'] == row.id, 'carshare'] = carshare\n",
    "        df.loc[df['id'] == row.id, 'bikeshare'] = bikeshare\n",
    "        df.loc[df['id'] == row.id, 'ridehailing'] = ridehailing\n",
    "        df.loc[df['id'] == row.id, 'masstransit'] = masstransit\n",
    "    except:\n",
    "        print('error on', i, raw_scores)\n",
    "    if i % 100 == 0:\n",
    "        df.to_csv('model_data.csv', index=False)\n",
    "        print(i, raw_scores)"
   ]
  }
 ],
 "metadata": {
  "kernelspec": {
   "display_name": "Python 3",
   "language": "python",
   "name": "python3"
  },
  "language_info": {
   "codemirror_mode": {
    "name": "ipython",
    "version": 3
   },
   "file_extension": ".py",
   "mimetype": "text/x-python",
   "name": "python",
   "nbconvert_exporter": "python",
   "pygments_lexer": "ipython3",
   "version": "3.6.4"
  },
  "toc": {
   "nav_menu": {},
   "number_sections": true,
   "sideBar": true,
   "skip_h1_title": false,
   "title_cell": "Table of Contents",
   "title_sidebar": "Contents",
   "toc_cell": false,
   "toc_position": {},
   "toc_section_display": true,
   "toc_window_display": false
  }
 },
 "nbformat": 4,
 "nbformat_minor": 2
}
